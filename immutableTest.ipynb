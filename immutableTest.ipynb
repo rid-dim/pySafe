{
 "cells": [
  {
   "cell_type": "code",
   "execution_count": 1,
   "metadata": {},
   "outputs": [
    {
     "name": "stdout",
     "output_type": "stream",
     "text": [
      "SAFE python-rust interface generated, bound and available\n"
     ]
    }
   ],
   "source": [
    "import safenet\n",
    "safenet.setup_logger(file_level=safenet.log_util.WARNING)\n",
    "myApp = safenet.App()\n",
    "myAuth_,addData=safenet.safe_utils.AuthReq(myApp.ffi_app.NULL,0,0,id=b'testProgramName',scope=b'noScope'\n",
    "                       ,name=b'randomProg',vendor=b'no_vendor',app_container=True,ffi=myApp.ffi_app)"
   ]
  },
  {
   "cell_type": "code",
   "execution_count": 2,
   "metadata": {},
   "outputs": [],
   "source": [
    "encodedAuth = myApp.encode_authentication(myAuth_)"
   ]
  },
  {
   "cell_type": "code",
   "execution_count": 3,
   "metadata": {},
   "outputs": [],
   "source": [
    "localAuthenticator = myApp.authenticator"
   ]
  },
  {
   "cell_type": "code",
   "execution_count": 5,
   "metadata": {},
   "outputs": [
    {
     "ename": "TypeError",
     "evalue": "account_info() missing 1 required positional argument: 'self'",
     "output_type": "error",
     "traceback": [
      "\u001b[0;31m---------------------------------------------------------------------------\u001b[0m",
      "\u001b[0;31mTypeError\u001b[0m                                 Traceback (most recent call last)",
      "\u001b[0;32m<ipython-input-5-2c842d910714>\u001b[0m in \u001b[0;36m<module>\u001b[0;34m\u001b[0m\n\u001b[0;32m----> 1\u001b[0;31m \u001b[0mlocalAuthenticator\u001b[0m\u001b[0;34m.\u001b[0m\u001b[0maccount_info\u001b[0m\u001b[0;34m(\u001b[0m\u001b[0;34m)\u001b[0m\u001b[0;34m\u001b[0m\u001b[0;34m\u001b[0m\u001b[0m\n\u001b[0m",
      "\u001b[0;31mTypeError\u001b[0m: account_info() missing 1 required positional argument: 'self'"
     ]
    }
   ],
   "source": [
    "localAuthenticator.account_info()"
   ]
  },
  {
   "cell_type": "code",
   "execution_count": null,
   "metadata": {},
   "outputs": [],
   "source": []
  },
  {
   "cell_type": "code",
   "execution_count": 3,
   "metadata": {
    "scrolled": true
   },
   "outputs": [
    {
     "name": "stdout",
     "output_type": "stream",
     "text": [
      "[20:35:40.225] pyS.ffi_out:Thread-5  (safe_sysUri_defs.py:  30) [   DEBUG] sysUri install called                                           \n",
      "[20:35:40.226] pyS        :MainThread(         sysUri.py:  62) [    INFO] filename is: b'/tmp/tmpq8d_t6j2' and port number is: 18939      \n",
      "[20:35:40.269] pyS.ffi_out:Thread-6  (safe_sysUri_defs.py:  54) [   DEBUG] sysUri open_uri called                                          \n",
      "[20:35:40.307] pyS.ffi_in :Thread-5  (     safe_utils.py: 137) [    INFO] action succeeded: < _install_o_cb                               \n",
      "[20:35:41.889] pyS.ffi_in :Thread-6  (     safe_utils.py: 137) [    INFO] action succeeded: < _open_uri_o_cb                              \n"
     ]
    }
   ],
   "source": [
    "grantedAuth = myApp.sysUri.quickSetup(myAuth_,encodedAuth)"
   ]
  },
  {
   "cell_type": "markdown",
   "metadata": {},
   "source": [
    "grantedAuth='bAEAAAADIADW4EAAAAAAAAAAAAAQAAAAAAAAAAAEFNJ53ABPX5QW524YYAMEN7T4MJJVIYH656RYZ4FCSZ4TUT7DX3AQAAAAAAAAAAADZO24ITUIIFUWNIUPYODCATWPRBZIBHLD4B6DGFUJDNASIIFYX5MQAAAAAAAAAAAG7B6WQXKW3UPQET62ZWDRY3U7NEYKRWBPQHLYJHTOOYIPPGOWKFFAAAAAAAAAAAACGBOVXSSUKP2Z7YMG5JJDC7BNTUU3YD4SBOBYN3CWRJXGCXLOSFTPQ7LILVLN2HYCJ7NM3BY4N2PWSMFI3AXYDV4ETZXHMEHXTHLFCSIAAAAAAAAAAAAJDOR7QCDWE2VXANINUIE4NYFTIAT66JFQN7B7ALHOV3QYVIYSGQIAAAAAAAAAAABK6S5AF4FRXH4AOBERKM65IJZZNGEILVD3GSDMQBIV4GP2XE5JHQGIAAAAAAAAAAAIAAAAAAAAAAABRG44C4NRSFY3TMLRYHI2TIOBTCMAAAAAAAAAAAMJTHAXDMOBOGE4DKLRSGE4DUNJUHAZREAAAAAAAAAAAGEZTQLRWHAXDCOBRFY2TOORVGQ4DGEQAAAAAAAAAAAYTGOBOGY4C4MJYGEXDMMB2GU2DQMYSAAAAAAAAAAADCMZYFY3DQLRRHAYS4OBWHI2TIOBTCIAAAAAAAAAAAMJTHAXDMOBOGE4DCLRYG45DKNBYGMJQAAAAAAAAAABRGM4C4NRYFYYTQMJOGE3DQORVGQ4DGEYAAAAAAAAAAAYTGOBOGY4C4MJYGEXDCNZWHI2TIOBTCMAAAAAAAAAAAMJTHAXDMOBOGE4DCLRRG44TUNJUHAZRGAAAAAAAAAAAGEZTQLRWHAXDCOBRFYYTQMB2GU2DQMYTAAAAAAAAAAADCMZYFY3DQLRRHAYS4MJYGI5DKNBYGMJQAAAAAAAAAABRGM4C4NRYFYYTQMJOGI2DEORVGQ4DGEYAAAAAAAAAAAYTGOBOGY4C4MJYGEXDENBTHI2TIOBTCMAAAAAAAAAAAMJTHAXDMOBOGE4DCLRSGQ4TUNJUHAZREAAAAAAAAAAAGEZTQLRWHAXDCOBZFYYTIORVGQ4DGEQAAAAAAAAAAAYTGOBOGY4C4MJYHEXDCNJ2GU2DQMYSAAAAAAAAAAADCMZYFY3DQLRRHA4S4MJXHI2TIOBTCIAAAAAAAAAAAMJTHAXDMOBOGE4DSLRRHA5DKNBYGMJAAAAAAAAAAABRGM4C4NRYFYYTQOJOGE4TUNJUHAZREAAAAAAAAAAAGEZTQLRWHAXDCOBZFYZTCORVGQ4DGEQAAAAAAAAAAAYTGOBOGY4C4MJYHEXDGNB2GU2DQMYSAAAAAAAAAAADCMZYFY3DQLRRHA4S4MZWHI2TIOBTCIAAAAAAAAAAAMJTHAXDMOBOGE4DSLRTHA5DKNBYGMJAAAAAAAAAAABRGM4C4NRYFYYTQOJOGM4TUNJUHAZRCAAAAAAAAAAAGQ3C4MJQGEXDKLRRG44TUNJUHAZQC2YVAAAAAAAAAEDQAAAAAAAAAADBNRYGQYK7GIAOWVHBIXIX3YGQAZIQREUXG4475KAEQOJARMHK5Z3DWBIVRXPEAVMYHIAAAAAAAAABQAAAAAAAAAAAIDF2MO3P472PTSCK3IIOW43ZICJR4Q4P5ZR6UWABAAAAAAAAAAABIAAAAAAAAAAAMFYHA4ZPORSXG5CQOJXWO4TBNVHGC3LFO7DUGA44PHQPW2LQGIPOFH34XS3SO3V3X6S3LX7ETSBIRY3TCAHJQOQAAAAAAAAAAEQAAAAAAAAAAAEIJOL5UDCOQRO3N2G6CFLCDF4ACW3LH2ON27YBAOOC7G4YGV25S4MAAAAAAAAAAAGJ6FXG5Y7A2Z5GTAO7H5APZ2ALENSBY2J7T4QNKAAFAAAAAAAAAAAAAAAAAAAQAAAAAIAAAAADAAAAABAAAAAAA'"
   ]
  },
  {
   "cell_type": "code",
   "execution_count": 4,
   "metadata": {},
   "outputs": [
    {
     "name": "stdout",
     "output_type": "stream",
     "text": [
      "[20:35:43.264] pyS.ffi_out:Thread-7  (  safe_app_defs.py:1859) [   DEBUG] got <cdata 'void(*)(void *, unsigned int, AuthGranted *)' calling <function decode_ipc_msg.<locals>._decode_ipc_msg.<locals>._decode_ipc_msg_o_auth at 0x7f01fc346e18>>\n",
      "[20:35:44.740] pyS.ffi_out:Thread-8  (  safe_app_defs.py:1541) [   DEBUG] got <cdata 'void(*)(void *, FfiResult *, void * *)' calling <function app_registered.<locals>._app_registered.<locals>._app_registered_o_cb at 0x7f01fc52bd90>>\n",
      "[20:35:44.748] pyS.ffi_in :Thread-8  (     safe_utils.py: 137) [    INFO] action succeeded: < _app_registered_o_cb                        \n"
     ]
    }
   ],
   "source": [
    "myApp.setup_app(myAuth_,grantedAuth)"
   ]
  },
  {
   "cell_type": "code",
   "execution_count": 5,
   "metadata": {},
   "outputs": [
    {
     "name": "stdout",
     "output_type": "stream",
     "text": [
      "[20:35:44.789] pyS.ffi_out:Dummy-10  (  safe_app_defs.py:2263) [   DEBUG] got <cdata 'void(*)(void *, FfiResult *, unsigned long)' calling <function app_pub_sign_key.<locals>._app_pub_sign_key.<locals>._app_pub_sign_key_o_cb at 0x7f01fd3afea0>>\n",
      "[20:35:44.791] pyS.ffi_in :Dummy-10  (     safe_utils.py: 137) [    INFO] action succeeded: < _app_pub_sign_key_o_cb                      \n"
     ]
    }
   ],
   "source": [
    "signKey = myApp.get_pub_key_handle()"
   ]
  },
  {
   "cell_type": "code",
   "execution_count": 6,
   "metadata": {},
   "outputs": [
    {
     "data": {
      "text/plain": [
       "1"
      ]
     },
     "execution_count": 6,
     "metadata": {},
     "output_type": "execute_result"
    }
   ],
   "source": [
    "signKey"
   ]
  },
  {
   "cell_type": "code",
   "execution_count": 7,
   "metadata": {},
   "outputs": [
    {
     "name": "stdout",
     "output_type": "stream",
     "text": [
      "[20:35:44.855] pyS.ffi_out:Dummy-10  (  safe_app_defs.py:2911) [   DEBUG] got <cdata 'void(*)(void *, FfiResult *, unsigned long)' calling <function cipher_opt_new_plaintext.<locals>._cipher_opt_new_plaintext.<locals>._cipher_opt_new_plaintext_o_cb at 0x7f01fc35b268>>\n",
      "[20:35:44.856] pyS.ffi_in :Dummy-10  (     safe_utils.py: 137) [    INFO] action succeeded: < _cipher_opt_new_plaintext_o_cb              \n"
     ]
    }
   ],
   "source": [
    "iDataCypherOptHandle = myApp.cipher_new_plaintext()"
   ]
  },
  {
   "cell_type": "code",
   "execution_count": 8,
   "metadata": {},
   "outputs": [
    {
     "data": {
      "text/plain": [
       "2"
      ]
     },
     "execution_count": 8,
     "metadata": {},
     "output_type": "execute_result"
    }
   ],
   "source": [
    "iDataCypherOptHandle"
   ]
  },
  {
   "cell_type": "markdown",
   "metadata": {},
   "source": [
    "---"
   ]
  },
  {
   "cell_type": "markdown",
   "metadata": {},
   "source": [
    "### now we have an app and can start doing stuff"
   ]
  },
  {
   "cell_type": "markdown",
   "metadata": {},
   "source": [
    "---"
   ]
  },
  {
   "cell_type": "markdown",
   "metadata": {},
   "source": [
    "### creating a immutable Object"
   ]
  },
  {
   "cell_type": "code",
   "execution_count": 9,
   "metadata": {},
   "outputs": [],
   "source": [
    "immutable = myApp.iData()"
   ]
  },
  {
   "cell_type": "code",
   "execution_count": 10,
   "metadata": {},
   "outputs": [
    {
     "name": "stdout",
     "output_type": "stream",
     "text": [
      "[20:24:54.133] pyS.ffi_out:Dummy-10  (  safe_app_defs.py:1116) [   DEBUG] got <cdata 'void(*)(void *, FfiResult *, unsigned long)' calling <function idata_new_self_encryptor.<locals>._idata_new_self_encryptor.<locals>._idata_new_self_encryptor_o_cb at 0x7f0789d5cd90>>\n",
      "[20:24:54.135] pyS.ffi_in :Dummy-10  (     safe_utils.py: 137) [    INFO] action succeeded: < _idata_new_self_encryptor_o_cb              \n"
     ]
    }
   ],
   "source": [
    "immutable.idata_new_self_encryptor(myApp.app_pointer,None)"
   ]
  },
  {
   "cell_type": "code",
   "execution_count": 11,
   "metadata": {},
   "outputs": [],
   "source": [
    "selfEncryptorHandle=immutable.queue.get_nowait()"
   ]
  },
  {
   "cell_type": "code",
   "execution_count": 12,
   "metadata": {},
   "outputs": [
    {
     "data": {
      "text/plain": [
       "3"
      ]
     },
     "execution_count": 12,
     "metadata": {},
     "output_type": "execute_result"
    }
   ],
   "source": [
    "selfEncryptorHandle"
   ]
  },
  {
   "cell_type": "code",
   "execution_count": null,
   "metadata": {},
   "outputs": [],
   "source": []
  },
  {
   "cell_type": "code",
   "execution_count": 13,
   "metadata": {},
   "outputs": [],
   "source": [
    "firstImmutableData=b'i want to be immutable'"
   ]
  },
  {
   "cell_type": "code",
   "execution_count": 14,
   "metadata": {},
   "outputs": [
    {
     "name": "stdout",
     "output_type": "stream",
     "text": [
      "[20:24:55.157] pyS.ffi_out:Dummy-10  (  safe_app_defs.py:1143) [   DEBUG] got <cdata 'void(*)(void *, FfiResult *)' calling <function idata_write_to_self_encryptor.<locals>._idata_write_to_self_encryptor.<locals>._idata_write_to_self_encryptor_o_cb at 0x7f07a94f0158>>\n",
      "[20:24:55.161] pyS.ffi_in :Dummy-10  (     safe_utils.py: 137) [    INFO] action succeeded: < _idata_write_to_self_encryptor_o_cb         \n"
     ]
    }
   ],
   "source": [
    "immutable.idata_write_to_self_encryptor(myApp.app_pointer,selfEncryptorHandle,firstImmutableData,\n",
    "                                        len(firstImmutableData),None)"
   ]
  },
  {
   "cell_type": "code",
   "execution_count": 15,
   "metadata": {},
   "outputs": [
    {
     "data": {
      "text/plain": [
       "'gotResult'"
      ]
     },
     "execution_count": 15,
     "metadata": {},
     "output_type": "execute_result"
    }
   ],
   "source": [
    "immutable.queue.get()"
   ]
  },
  {
   "cell_type": "code",
   "execution_count": null,
   "metadata": {},
   "outputs": [],
   "source": []
  },
  {
   "cell_type": "code",
   "execution_count": 16,
   "metadata": {},
   "outputs": [
    {
     "name": "stdout",
     "output_type": "stream",
     "text": [
      "[20:24:56.499] pyS.ffi_out:Dummy-10  (  safe_app_defs.py:1170) [   DEBUG] got <cdata 'void(*)(void *, FfiResult *, unsigned char(*)[32])' calling <function idata_close_self_encryptor.<locals>._idata_close_self_encryptor.<locals>._idata_close_self_encryptor_o_cb at 0x7f078807e620>>\n",
      "[20:24:56.503] pyS.ffi_in :Dummy-10  (     safe_utils.py: 137) [    INFO] action succeeded: < _idata_close_self_encryptor_o_cb            \n"
     ]
    }
   ],
   "source": [
    "immutable.idata_close_self_encryptor(myApp.app_pointer,selfEncryptorHandle,iDataCypherOptHandle,None)"
   ]
  },
  {
   "cell_type": "code",
   "execution_count": 17,
   "metadata": {
    "scrolled": true
   },
   "outputs": [],
   "source": [
    "returnVal = immutable.queue.get()"
   ]
  },
  {
   "cell_type": "code",
   "execution_count": null,
   "metadata": {},
   "outputs": [],
   "source": []
  },
  {
   "cell_type": "code",
   "execution_count": 24,
   "metadata": {},
   "outputs": [
    {
     "data": {
      "text/plain": [
       "b'\\x85{$\\x83\\xb9\\xdf\\xd9\\x14\\xe1\\xb5\\xbf\\x12\\x8c}\\xf2\\xb7\\xde\\xfc\\x90e4\\x0cDS\\x0e\\x96{\\x8e\\xd5X\\xbd\\xc7'"
      ]
     },
     "execution_count": 24,
     "metadata": {},
     "output_type": "execute_result"
    }
   ],
   "source": [
    "myApp.ffi_app.buffer(returnVal[0])[:]"
   ]
  },
  {
   "cell_type": "code",
   "execution_count": null,
   "metadata": {},
   "outputs": [],
   "source": []
  },
  {
   "cell_type": "code",
   "execution_count": 10,
   "metadata": {},
   "outputs": [],
   "source": [
    "myReconstructedXorName = myApp.ffi_app.new('XorNameArray*')"
   ]
  },
  {
   "cell_type": "code",
   "execution_count": 11,
   "metadata": {},
   "outputs": [],
   "source": [
    "myApp.ffi_app.buffer(myReconstructedXorName[0])[:]=b'\\x85{$\\x83\\xb9\\xdf\\xd9\\x14\\xe1\\xb5\\xbf\\x12\\x8c}\\xf2\\xb7\\xde\\xfc\\x90e4\\x0cDS\\x0e\\x96{\\x8e\\xd5X\\xbd\\xc7'"
   ]
  },
  {
   "cell_type": "code",
   "execution_count": 12,
   "metadata": {},
   "outputs": [
    {
     "data": {
      "text/plain": [
       "b'\\x85{$\\x83\\xb9\\xdf\\xd9\\x14\\xe1\\xb5\\xbf\\x12\\x8c}\\xf2\\xb7\\xde\\xfc\\x90e4\\x0cDS\\x0e\\x96{\\x8e\\xd5X\\xbd\\xc7'"
      ]
     },
     "execution_count": 12,
     "metadata": {},
     "output_type": "execute_result"
    }
   ],
   "source": [
    "myApp.ffi_app.buffer(myReconstructedXorName[0])[:]"
   ]
  },
  {
   "cell_type": "code",
   "execution_count": null,
   "metadata": {},
   "outputs": [],
   "source": []
  },
  {
   "cell_type": "code",
   "execution_count": 13,
   "metadata": {},
   "outputs": [
    {
     "name": "stdout",
     "output_type": "stream",
     "text": [
      "[20:35:54.200] pyS.ffi_out:Dummy-10  (  safe_app_defs.py:1197) [   DEBUG] got <cdata 'void(*)(void *, FfiResult *, unsigned long)' calling <function idata_fetch_self_encryptor.<locals>._idata_fetch_self_encryptor.<locals>._idata_fetch_self_encryptor_o_cb at 0x7f01fc1677b8>>\n",
      "[20:35:54.204] pyS.ffi_in :Dummy-10  (     safe_utils.py: 137) [    INFO] action succeeded: < _idata_fetch_self_encryptor_o_cb            \n"
     ]
    }
   ],
   "source": [
    "immutable.idata_fetch_self_encryptor(myApp.app_pointer,myReconstructedXorName,None)"
   ]
  },
  {
   "cell_type": "code",
   "execution_count": 14,
   "metadata": {
    "scrolled": true
   },
   "outputs": [],
   "source": [
    "fetchHandle = immutable.queue.get()"
   ]
  },
  {
   "cell_type": "code",
   "execution_count": null,
   "metadata": {},
   "outputs": [],
   "source": []
  },
  {
   "cell_type": "code",
   "execution_count": 15,
   "metadata": {
    "scrolled": true
   },
   "outputs": [
    {
     "name": "stdout",
     "output_type": "stream",
     "text": [
      "[20:35:56.609] pyS.ffi_out:Dummy-10  (  safe_app_defs.py:1278) [   DEBUG] got <cdata 'void(*)(void *, FfiResult *, unsigned char *, unsigned long)' calling <function idata_read_from_self_encryptor.<locals>._idata_read_from_self_encryptor.<locals>._idata_read_from_self_encryptor_o_cb at 0x7f01fc167a60>>\n",
      "[20:35:56.614] pyS.ffi_in :Dummy-10  (     safe_utils.py: 137) [    INFO] action succeeded: < _idata_read_from_self_encryptor_o_cb        \n"
     ]
    }
   ],
   "source": [
    "immutable.idata_read_from_self_encryptor(myApp.app_pointer,fetchHandle,0,22,None)"
   ]
  },
  {
   "cell_type": "code",
   "execution_count": 16,
   "metadata": {
    "scrolled": true
   },
   "outputs": [],
   "source": [
    "fetchData = immutable.queue.get()"
   ]
  },
  {
   "cell_type": "code",
   "execution_count": 17,
   "metadata": {},
   "outputs": [
    {
     "data": {
      "text/plain": [
       "b'i want to be immutable'"
      ]
     },
     "execution_count": 17,
     "metadata": {},
     "output_type": "execute_result"
    },
    {
     "name": "stdout",
     "output_type": "stream",
     "text": [
      "[12:44:24.349] pyS.ffi_out:Dummy-10  (  safe_app_defs.py:1531) [   DEBUG] got <cdata 'void(*)(void *)' calling <function app_registered.<locals>._app_registered.<locals>._app_registered_o_disconnect_notifier_cb at 0x7f01fc35b0d0>>\n"
     ]
    }
   ],
   "source": [
    "fetchData"
   ]
  },
  {
   "cell_type": "code",
   "execution_count": null,
   "metadata": {},
   "outputs": [],
   "source": []
  },
  {
   "cell_type": "markdown",
   "metadata": {},
   "source": [
    "### creating a mutable Object"
   ]
  },
  {
   "cell_type": "code",
   "execution_count": 14,
   "metadata": {},
   "outputs": [],
   "source": [
    "myMutable = myApp.mData()"
   ]
  },
  {
   "cell_type": "markdown",
   "metadata": {},
   "source": [
    "### define Entries and drop them onto Safe"
   ]
  },
  {
   "cell_type": "code",
   "execution_count": 8,
   "metadata": {},
   "outputs": [],
   "source": [
    "import datetime"
   ]
  },
  {
   "cell_type": "code",
   "execution_count": 9,
   "metadata": {},
   "outputs": [
    {
     "name": "stdout",
     "output_type": "stream",
     "text": [
      "enter your custom value here: nope2\n"
     ]
    }
   ],
   "source": [
    "entries={'firstkey':'this is awesome',\n",
    "         'secondKey':'and soon it should be',\n",
    "         'thirdKey':'even easier to use safe with python',\n",
    "         'i love safe':'and this is just the start',\n",
    "         'thisWasUploaded at':datetime.datetime.utcnow().strftime('%Y-%m-%d - %H:%M:%S UTC'),\n",
    "         'additionalEntry':input('enter your custom value here: ')}"
   ]
  },
  {
   "cell_type": "code",
   "execution_count": null,
   "metadata": {},
   "outputs": [],
   "source": []
  },
  {
   "cell_type": "code",
   "execution_count": 10,
   "metadata": {},
   "outputs": [],
   "source": [
    "infoData = myMutable.new_random_public(29787,signKey,entries)"
   ]
  },
  {
   "cell_type": "code",
   "execution_count": null,
   "metadata": {},
   "outputs": [],
   "source": []
  },
  {
   "cell_type": "code",
   "execution_count": 11,
   "metadata": {
    "scrolled": true
   },
   "outputs": [
    {
     "name": "stdout",
     "output_type": "stream",
     "text": [
      "safe://f01701620488f08787dc5445d55ee5708e0b4aa7594d48a0b7a0668e37b7dd10684330150:29787\n"
     ]
    }
   ],
   "source": [
    "print(safenet.safe_utils.getXorAddresOfMutable(infoData,myMutable.ffi_app))"
   ]
  },
  {
   "cell_type": "code",
   "execution_count": null,
   "metadata": {},
   "outputs": [],
   "source": []
  },
  {
   "cell_type": "code",
   "execution_count": 12,
   "metadata": {},
   "outputs": [],
   "source": [
    "additionalEntries={'this wasnt here':'before'}"
   ]
  },
  {
   "cell_type": "code",
   "execution_count": 16,
   "metadata": {},
   "outputs": [],
   "source": [
    "additionalEntries={'baduff':'another entry'}"
   ]
  },
  {
   "cell_type": "code",
   "execution_count": 17,
   "metadata": {},
   "outputs": [],
   "source": [
    "myMutable.insertEntries(infoData,additionalEntries)"
   ]
  },
  {
   "cell_type": "code",
   "execution_count": null,
   "metadata": {},
   "outputs": [],
   "source": []
  },
  {
   "cell_type": "code",
   "execution_count": 24,
   "metadata": {},
   "outputs": [],
   "source": [
    "with open('testfile','wb') as f:\n",
    "    f.write(myMutable.ffi_app.buffer(infoData)[:])"
   ]
  },
  {
   "cell_type": "code",
   "execution_count": 8,
   "metadata": {},
   "outputs": [],
   "source": [
    "with open('testfile','rb') as f:\n",
    "    infoData= safenet.safe_utils.getffiMutable(f.read(),myMutable.ffi_app)"
   ]
  },
  {
   "cell_type": "code",
   "execution_count": 11,
   "metadata": {},
   "outputs": [
    {
     "data": {
      "text/plain": [
       "b'H\\x8f\\x08x}\\xc5D]U\\xeeW\\x08\\xe0\\xb4\\xaau\\x94\\xd4\\x8a\\x0bz\\x06h\\xe3{}\\xd1\\x06\\x843\\x01P[t\\x00\\x00\\x00\\x00\\x00\\x00\\x00\\x00\\x00\\x00\\x00\\x00\\x00\\x00\\x00\\x00\\x00\\x00\\x00\\x00\\x00\\x00\\x00\\x00\\x00\\x00\\x00\\x00\\x00\\x00\\x00\\x00\\x00\\x00\\x00\\x00\\x00\\x00\\x00\\x00\\x00\\x00\\x00\\x00\\x00\\x00\\x00\\x00\\x00\\x00\\x00\\x00\\x00\\x00\\x00\\x00\\x00\\x00\\x00\\x00\\x00\\x00\\x00\\x00\\x00\\x00\\x00\\x00\\x00\\x00\\x00\\x00\\x00\\x00\\x00\\x00\\x00\\x00\\x00\\x00\\x00\\x00\\x00\\x00\\x00\\x00\\x00\\x00\\x00\\x00\\x00\\x00\\x00\\x00\\x00\\x00\\x00\\x00\\x00\\x00\\x00\\x00\\x00\\x00\\x00\\x00\\x00\\x00\\x00\\x00\\x00\\x00\\x00\\x00\\x00\\x00\\x00\\x00\\x00\\x007\\xdbNV\\x00\\x00'"
      ]
     },
     "execution_count": 11,
     "metadata": {},
     "output_type": "execute_result"
    }
   ],
   "source": [
    "myMutable.ffi_app.buffer(infoData)[:]"
   ]
  },
  {
   "cell_type": "code",
   "execution_count": 12,
   "metadata": {},
   "outputs": [],
   "source": [
    "mutableBytes = b'H\\x8f\\x08x}\\xc5D]U\\xeeW\\x08\\xe0\\xb4\\xaau\\x94\\xd4\\x8a\\x0bz\\x06h\\xe3{}\\xd1\\x06\\x843\\x01P[t\\x00\\x00\\x00\\x00\\x00\\x00\\x00\\x00\\x00\\x00\\x00\\x00\\x00\\x00\\x00\\x00\\x00\\x00\\x00\\x00\\x00\\x00\\x00\\x00\\x00\\x00\\x00\\x00\\x00\\x00\\x00\\x00\\x00\\x00\\x00\\x00\\x00\\x00\\x00\\x00\\x00\\x00\\x00\\x00\\x00\\x00\\x00\\x00\\x00\\x00\\x00\\x00\\x00\\x00\\x00\\x00\\x00\\x00\\x00\\x00\\x00\\x00\\x00\\x00\\x00\\x00\\x00\\x00\\x00\\x00\\x00\\x00\\x00\\x00\\x00\\x00\\x00\\x00\\x00\\x00\\x00\\x00\\x00\\x00\\x00\\x00\\x00\\x00\\x00\\x00\\x00\\x00\\x00\\x00\\x00\\x00\\x00\\x00\\x00\\x00\\x00\\x00\\x00\\x00\\x00\\x00\\x00\\x00\\x00\\x00\\x00\\x00\\x00\\x00\\x00\\x00\\x00\\x00\\x00\\x007\\xdbNV\\x00\\x00'"
   ]
  },
  {
   "cell_type": "code",
   "execution_count": 10,
   "metadata": {},
   "outputs": [
    {
     "ename": "NameError",
     "evalue": "name 'mutableBytes' is not defined",
     "output_type": "error",
     "traceback": [
      "\u001b[0;31m---------------------------------------------------------------------------\u001b[0m",
      "\u001b[0;31mNameError\u001b[0m                                 Traceback (most recent call last)",
      "\u001b[0;32m<ipython-input-10-1bdf9e4a173e>\u001b[0m in \u001b[0;36m<module>\u001b[0;34m\u001b[0m\n\u001b[0;32m----> 1\u001b[0;31m \u001b[0minfoData\u001b[0m\u001b[0;34m=\u001b[0m \u001b[0msafenet\u001b[0m\u001b[0;34m.\u001b[0m\u001b[0msafe_utils\u001b[0m\u001b[0;34m.\u001b[0m\u001b[0mgetffiMutable\u001b[0m\u001b[0;34m(\u001b[0m\u001b[0mmutableBytes\u001b[0m\u001b[0;34m,\u001b[0m\u001b[0mmyMutable\u001b[0m\u001b[0;34m.\u001b[0m\u001b[0mffi_app\u001b[0m\u001b[0;34m)\u001b[0m\u001b[0;34m\u001b[0m\u001b[0;34m\u001b[0m\u001b[0m\n\u001b[0m",
      "\u001b[0;31mNameError\u001b[0m: name 'mutableBytes' is not defined"
     ]
    }
   ],
   "source": [
    "infoData= safenet.safe_utils.getffiMutable(mutableBytes,myMutable.ffi_app)"
   ]
  },
  {
   "cell_type": "code",
   "execution_count": null,
   "metadata": {},
   "outputs": [],
   "source": []
  },
  {
   "cell_type": "code",
   "execution_count": 9,
   "metadata": {},
   "outputs": [
    {
     "data": {
      "text/plain": [
       "<cdata 'MDataInfo *' owning 160 bytes>"
      ]
     },
     "execution_count": 9,
     "metadata": {},
     "output_type": "execute_result"
    }
   ],
   "source": [
    "infoData"
   ]
  },
  {
   "cell_type": "code",
   "execution_count": null,
   "metadata": {},
   "outputs": [],
   "source": []
  },
  {
   "cell_type": "code",
   "execution_count": 10,
   "metadata": {},
   "outputs": [],
   "source": [
    "def getNewEntries(lastState,newState):\n",
    "    newEntries = {}\n",
    "    for additional in [item for item in newState if item not in lastState]:\n",
    "        newEntries[additional]=newState[additional]\n",
    "    return newEntries, newState"
   ]
  },
  {
   "cell_type": "code",
   "execution_count": null,
   "metadata": {},
   "outputs": [],
   "source": []
  },
  {
   "cell_type": "markdown",
   "metadata": {},
   "source": [
    "lastState={}"
   ]
  },
  {
   "cell_type": "markdown",
   "metadata": {},
   "source": [
    "additionalEntries, lastState = getNewEntries(lastState,myMutable.getCurrentState(infoData))"
   ]
  },
  {
   "cell_type": "markdown",
   "metadata": {},
   "source": [
    "additionalEntries"
   ]
  },
  {
   "cell_type": "code",
   "execution_count": null,
   "metadata": {},
   "outputs": [],
   "source": []
  },
  {
   "cell_type": "code",
   "execution_count": null,
   "metadata": {},
   "outputs": [],
   "source": []
  },
  {
   "cell_type": "code",
   "execution_count": null,
   "metadata": {},
   "outputs": [],
   "source": []
  },
  {
   "cell_type": "code",
   "execution_count": null,
   "metadata": {},
   "outputs": [],
   "source": [
    "import queue\n",
    "import time\n",
    "from threading import Thread\n",
    "import datetime\n",
    "import sys\n",
    "from PyQt5.QtWidgets import (QWidget, QPushButton, QTextBrowser,QLineEdit,\n",
    "    QHBoxLayout, QVBoxLayout, QApplication)\n",
    "\n",
    "\n",
    "class Example(QWidget):\n",
    "    \n",
    "    def __init__(self):\n",
    "        super().__init__()\n",
    "        \n",
    "        self.lineedit1 = QLineEdit(\"anon\")\n",
    "        self.browser = QTextBrowser()\n",
    "        self.lineedit = QLineEdit(\"Type a message and press Enter\")\n",
    "        self.lineedit.selectAll()\n",
    "        self.setWindowTitle(\"crappychat_reloaded\")\n",
    "        vbox = QVBoxLayout()\n",
    "        vbox.addWidget(self.lineedit1)\n",
    "        vbox.addWidget(self.browser)\n",
    "        vbox.addWidget(self.lineedit)\n",
    "        self.setLayout(vbox)    \n",
    "        \n",
    "        self.setGeometry(300, 300, 900, 600) \n",
    "        self.show()\n",
    "        self.lineedit.setFocus()\n",
    "        self.lineedit.returnPressed.connect(self.updateUi)\n",
    "        \n",
    "        self.messageQueue = queue.Queue()\n",
    "        t = Thread(name='updateThread', target=self.updateBrowser)\n",
    "        t.start()\n",
    "        \n",
    "    def updateUi(self):\n",
    "        try:\n",
    "            now = datetime.datetime.utcnow().strftime('%Y-%m-%d - %H:%M:%S')\n",
    "            myName = self.lineedit1.text()\n",
    "            text = self.lineedit.text()\n",
    "            timeUser = f'{now} {myName}'\n",
    "            additionalEntries={timeUser:text}\n",
    "            self.messageQueue.put(additionalEntries)\n",
    "            \n",
    "            #self.browser.append(f\"<b>{timeUser}</b>: {text}\") \n",
    "            self.lineedit.clear()\n",
    "            \n",
    "        except:\n",
    "            self.browser.append(\"<font color=red>{0} is invalid!</font>\"\n",
    "                                .format(text)) \n",
    "        \n",
    "    def updateBrowser(self):\n",
    "        lastState={}\n",
    "        while True:\n",
    "            try:\n",
    "                if not self.messageQueue.empty():\n",
    "                    newEntries = self.messageQueue.get()\n",
    "                    myMutable.insertEntries(infoData,newEntries)\n",
    "                additionalEntries, lastState = getNewEntries(lastState,myMutable.getCurrentState(infoData))\n",
    "                for entry in additionalEntries:\n",
    "                    entry_string = entry.decode()\n",
    "                    value_string = additionalEntries[entry].decode()\n",
    "                    self.browser.append(f\"<b>{entry_string}</b>: {value_string}\")\n",
    "                    self.browser.ensureCursorVisible()\n",
    "            except:\n",
    "                pass\n",
    "            time.sleep(2)\n",
    "        \n",
    "        \n",
    "        \n",
    "if __name__ == '__main__':\n",
    "    \n",
    "    app = QApplication(sys.argv)\n",
    "    ex = Example()\n",
    "    sys.exit(app.exec_())"
   ]
  },
  {
   "cell_type": "code",
   "execution_count": null,
   "metadata": {},
   "outputs": [],
   "source": []
  },
  {
   "cell_type": "code",
   "execution_count": null,
   "metadata": {},
   "outputs": [],
   "source": []
  }
 ],
 "metadata": {
  "kernelspec": {
   "display_name": "Python 3",
   "language": "python",
   "name": "python3"
  },
  "language_info": {
   "codemirror_mode": {
    "name": "ipython",
    "version": 3
   },
   "file_extension": ".py",
   "mimetype": "text/x-python",
   "name": "python",
   "nbconvert_exporter": "python",
   "pygments_lexer": "ipython3",
   "version": "3.6.7"
  }
 },
 "nbformat": 4,
 "nbformat_minor": 2
}
