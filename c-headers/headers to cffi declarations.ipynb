{
 "cells": [
  {
   "cell_type": "markdown",
   "metadata": {},
   "source": [
    "# declarations"
   ]
  },
  {
   "cell_type": "code",
   "execution_count": 2,
   "metadata": {},
   "outputs": [],
   "source": [
    "headerFile='safe_ffi.h'"
   ]
  },
  {
   "cell_type": "markdown",
   "metadata": {},
   "source": [
    "headerFile='safe_authenticator.h'"
   ]
  },
  {
   "cell_type": "code",
   "execution_count": 3,
   "metadata": {},
   "outputs": [],
   "source": [
    "import subprocess"
   ]
  },
  {
   "cell_type": "code",
   "execution_count": 4,
   "metadata": {},
   "outputs": [],
   "source": [
    "def preprocess(source):\n",
    "    return subprocess.check_output(['gcc', '-E', '-P', '-'],\n",
    "                          input=source,\n",
    "                          universal_newlines=True)"
   ]
  },
  {
   "cell_type": "code",
   "execution_count": 5,
   "metadata": {},
   "outputs": [],
   "source": [
    "with open(headerFile) as f:\n",
    "    fileContent=f.read()"
   ]
  },
  {
   "cell_type": "code",
   "execution_count": 6,
   "metadata": {},
   "outputs": [],
   "source": [
    "includes = preprocess(fileContent)"
   ]
  },
  {
   "cell_type": "markdown",
   "metadata": {},
   "source": [
    "print(preprocess(fileContent))"
   ]
  },
  {
   "cell_type": "code",
   "execution_count": 7,
   "metadata": {},
   "outputs": [],
   "source": [
    "typedefs=''\n",
    "functionDeclarations=''\n",
    "for i in includes.splitlines():\n",
    "    if i[:4] == 'void':\n",
    "        functionDeclarations+='\\n'+i\n",
    "    else:\n",
    "        typedefs+='\\n'+i"
   ]
  },
  {
   "cell_type": "markdown",
   "metadata": {},
   "source": [
    "print(typedefs)"
   ]
  },
  {
   "cell_type": "markdown",
   "metadata": {},
   "source": [
    "### dataTypes"
   ]
  },
  {
   "cell_type": "code",
   "execution_count": 8,
   "metadata": {},
   "outputs": [],
   "source": [
    "from cffi import FFI\n",
    "ffi = FFI()"
   ]
  },
  {
   "cell_type": "code",
   "execution_count": 9,
   "metadata": {},
   "outputs": [],
   "source": [
    "import re"
   ]
  },
  {
   "cell_type": "code",
   "execution_count": 10,
   "metadata": {},
   "outputs": [],
   "source": [
    "oneliners=re.compile('typedef[^{}]+?;')"
   ]
  },
  {
   "cell_type": "code",
   "execution_count": 11,
   "metadata": {},
   "outputs": [],
   "source": [
    "myStructTypes=re.compile('typedef struct .+?}.+?;', flags=re.DOTALL)"
   ]
  },
  {
   "cell_type": "code",
   "execution_count": 12,
   "metadata": {
    "scrolled": true
   },
   "outputs": [],
   "source": [
    "allOneLiners=oneliners.findall(typedefs)"
   ]
  },
  {
   "cell_type": "code",
   "execution_count": 13,
   "metadata": {},
   "outputs": [],
   "source": [
    "arrayTypes={'typedef uint8_t const* AsymPublicKey;':'typedef uint8_t AsymPublicKey[32];',\n",
    " 'typedef uint8_t const* AsymSecretKey;':'typedef uint8_t AsymSecretKey[32];',\n",
    " 'typedef uint8_t const* AsymNonce;':'typedef uint8_t AsymNonce[24];',\n",
    " 'typedef uint8_t const* SymSecretKey;':'typedef uint8_t SymSecretKey[32];',\n",
    " 'typedef uint8_t const* SymNonce;':'typedef uint8_t SymNonce[24];',\n",
    " 'typedef uint8_t const* SignPublicKey;':'typedef uint8_t SignPublicKey[32];',\n",
    " 'typedef uint8_t const* SignSecretKey;':'typedef uint8_t SignSecretKey[64];',\n",
    " 'typedef uint8_t const* XorNameArray;':'typedef uint8_t XorNameArray[32];'}"
   ]
  },
  {
   "cell_type": "code",
   "execution_count": 14,
   "metadata": {},
   "outputs": [],
   "source": [
    "for index,oneLiner in enumerate(allOneLiners):\n",
    "    if oneLiner in arrayTypes.keys():\n",
    "        allOneLiners[index] = arrayTypes[oneLiner]"
   ]
  },
  {
   "cell_type": "markdown",
   "metadata": {},
   "source": [
    "somehow the array types might be missing"
   ]
  },
  {
   "cell_type": "code",
   "execution_count": 15,
   "metadata": {},
   "outputs": [],
   "source": [
    "for one in arrayTypes:\n",
    "    if one not in allOneLiners:\n",
    "        allOneLiners.append(one)"
   ]
  },
  {
   "cell_type": "markdown",
   "metadata": {},
   "source": [
    "print('\\n'.join(allOneLiners))"
   ]
  },
  {
   "cell_type": "code",
   "execution_count": 16,
   "metadata": {},
   "outputs": [],
   "source": [
    "oneLinerDeclaration = '\\n'.join(allOneLiners)"
   ]
  },
  {
   "cell_type": "code",
   "execution_count": 17,
   "metadata": {
    "scrolled": false
   },
   "outputs": [],
   "source": [
    "ffi.cdef(oneLinerDeclaration)"
   ]
  },
  {
   "cell_type": "markdown",
   "metadata": {},
   "source": [
    "ffi.new('AsymPublicKey*')"
   ]
  },
  {
   "cell_type": "code",
   "execution_count": 18,
   "metadata": {},
   "outputs": [],
   "source": [
    "allMyStructs=myStructTypes.findall(typedefs)\n",
    "declarationStructs=[]\n",
    "for oneStruct in allMyStructs:\n",
    "    newStruct = re.sub('.*\\{','typedef struct {',oneStruct).replace(' const*','*')\n",
    "    declarationStructs.append(newStruct)"
   ]
  },
  {
   "cell_type": "code",
   "execution_count": 19,
   "metadata": {},
   "outputs": [
    {
     "data": {
      "text/plain": [
       "'safe_ffi_datatype_declarations'"
      ]
     },
     "execution_count": 19,
     "metadata": {},
     "output_type": "execute_result"
    }
   ],
   "source": [
    "headerFile[:-2]+'_datatype_declarations'"
   ]
  },
  {
   "cell_type": "code",
   "execution_count": 20,
   "metadata": {},
   "outputs": [],
   "source": [
    "with open('../safenet/extracted_headers/' + headerFile[:-2]+'_datatype_declarations','w') as f:\n",
    "    f.write(oneLinerDeclaration)\n",
    "    for i in range(100):\n",
    "        for oneDeclaration in declarationStructs:\n",
    "            try:\n",
    "                ffi.cdef(oneDeclaration)\n",
    "                f.write(oneDeclaration+'\\n')\n",
    "                declarationStructs.remove(oneDeclaration)\n",
    "            except:\n",
    "                pass"
   ]
  },
  {
   "cell_type": "code",
   "execution_count": null,
   "metadata": {},
   "outputs": [],
   "source": []
  },
  {
   "cell_type": "markdown",
   "metadata": {},
   "source": [
    "### lib functions"
   ]
  },
  {
   "cell_type": "markdown",
   "metadata": {},
   "source": [
    "print(functionDeclarations.replace(' const*','*'))"
   ]
  },
  {
   "cell_type": "code",
   "execution_count": 21,
   "metadata": {},
   "outputs": [],
   "source": [
    "correctedFunctions=functionDeclarations.replace(' const*','*')"
   ]
  },
  {
   "cell_type": "code",
   "execution_count": 22,
   "metadata": {},
   "outputs": [],
   "source": [
    "ffi.cdef(correctedFunctions)"
   ]
  },
  {
   "cell_type": "code",
   "execution_count": 23,
   "metadata": {},
   "outputs": [],
   "source": [
    "with open('../safenet/extracted_headers/' + headerFile[:-2]+'_function_declarations','w') as f:\n",
    "    f.write(correctedFunctions)"
   ]
  },
  {
   "cell_type": "code",
   "execution_count": null,
   "metadata": {},
   "outputs": [],
   "source": []
  },
  {
   "cell_type": "code",
   "execution_count": null,
   "metadata": {},
   "outputs": [],
   "source": []
  }
 ],
 "metadata": {
  "kernelspec": {
   "display_name": "Python 3",
   "language": "python",
   "name": "python3"
  },
  "language_info": {
   "codemirror_mode": {
    "name": "ipython",
    "version": 3
   },
   "file_extension": ".py",
   "mimetype": "text/x-python",
   "name": "python",
   "nbconvert_exporter": "python",
   "pygments_lexer": "ipython3",
   "version": "3.6.9"
  }
 },
 "nbformat": 4,
 "nbformat_minor": 2
}
