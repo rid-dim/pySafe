{
 "cells": [
  {
   "cell_type": "markdown",
   "metadata": {},
   "source": [
    "---"
   ]
  },
  {
   "cell_type": "markdown",
   "metadata": {},
   "source": [
    "# App"
   ]
  },
  {
   "cell_type": "markdown",
   "metadata": {},
   "source": [
    "---"
   ]
  },
  {
   "cell_type": "markdown",
   "metadata": {},
   "source": [
    "for accessing an additional [default container](https://forum.safedev.org/t/safe-network-api-getting-started-draft/726) you need to add container-permissions and count up the container length"
   ]
  },
  {
   "cell_type": "markdown",
   "metadata": {},
   "source": [
    "```python\n",
    "import safenet\n",
    "safenet.setup_logger(file_level=safenet.log_util.DEBUG)\n",
    "myApp = safenet.App()\n",
    "newPermissions,permission_addon=safenet.safe_utils.ContainerPermissions(b'_music',ffi=myApp.ffi_app)\n",
    "myAuth_,addData=safenet.safe_utils.AuthReq(newPermissions,1,1,id=b'newProgId_unique_thing',scope=b'lalali'\n",
    "                       ,name=b'newProgramName',vendor=b'nobody',app_container=True,ffi=myApp.ffi_app)\n",
    "```"
   ]
  },
  {
   "cell_type": "markdown",
   "metadata": {},
   "source": [
    "in this simple case we just want access to the default container and set the logger to a medium level:"
   ]
  },
  {
   "cell_type": "code",
   "execution_count": 1,
   "metadata": {},
   "outputs": [],
   "source": [
    "import safenet\n",
    "safenet.setup_logger(file_level=safenet.log_util.DEBUG)\n",
    "myApp = safenet.App()\n",
    "myAuth_,addData=safenet.safe_utils.AuthReq(myApp.ffi_app.NULL,0,0,id=b'otherProgramname',scope=b'noScope'\n",
    "                       ,name=b'oneProg',vendor=b'no_vendor',app_container=True,ffi=myApp.ffi_app)"
   ]
  },
  {
   "cell_type": "code",
   "execution_count": 2,
   "metadata": {},
   "outputs": [
    {
     "name": "stdout",
     "output_type": "stream",
     "text": [
      "[19:08:59.904] pyS.ffi_in :Thread-6  (     safe_utils.py: 137) [    INFO] action succeeded: < _encode_auth_req_o_cb                       \n"
     ]
    }
   ],
   "source": [
    "myApp.encode_auth_req(myAuth_,myApp.ffi_app.NULL)\n",
    "encodedAuth = myApp.queue.get()"
   ]
  },
  {
   "cell_type": "code",
   "execution_count": 3,
   "metadata": {
    "scrolled": true
   },
   "outputs": [
    {
     "name": "stdout",
     "output_type": "stream",
     "text": [
      "[19:09:00.634] pyS.ffi_out:Thread-7  (safe_sysUri_defs.py:  30) [   DEBUG] sysUri install called                                           \n",
      "[19:09:00.634] pyS        :MainThread(         sysUri.py:  63) [    INFO] filename is: b'/tmp/tmpx48v1zkn' and port number is: 7035       \n",
      "[19:09:00.669] pyS.ffi_out:Thread-8  (safe_sysUri_defs.py:  54) [   DEBUG] sysUri open_uri called                                          \n",
      "[19:09:00.683] pyS.ffi_in :Thread-7  (     safe_utils.py: 137) [    INFO] action succeeded: < _install_o_cb                               \n",
      "[19:09:02.096] pyS.ffi_in :Thread-8  (     safe_utils.py: 137) [    INFO] action succeeded: < _open_uri_o_cb                              \n"
     ]
    }
   ],
   "source": [
    "grantedAuth = myApp.sysUri.quickSetup(myAuth_,encodedAuth)"
   ]
  },
  {
   "cell_type": "markdown",
   "metadata": {},
   "source": [
    "the granted auth (a long string) then needs to be decoded to get the authGranted-pointer from the safe-api"
   ]
  },
  {
   "cell_type": "code",
   "execution_count": 4,
   "metadata": {},
   "outputs": [],
   "source": [
    "myApp.decode_ipc_msg(grantedAuth,None)"
   ]
  },
  {
   "cell_type": "code",
   "execution_count": 5,
   "metadata": {},
   "outputs": [],
   "source": [
    "grantedAuthPointer = myApp.queue.get()"
   ]
  },
  {
   "cell_type": "markdown",
   "metadata": {},
   "source": [
    "that is then used to get the app-pointer"
   ]
  },
  {
   "cell_type": "code",
   "execution_count": 6,
   "metadata": {},
   "outputs": [],
   "source": [
    "myApp.app_registered(myAuth_.app.id,grantedAuthPointer[0],None)"
   ]
  },
  {
   "cell_type": "code",
   "execution_count": 7,
   "metadata": {},
   "outputs": [
    {
     "name": "stdout",
     "output_type": "stream",
     "text": [
      "[19:09:11.254] pyS.ffi_in :Thread-10 (     safe_utils.py: 137) [    INFO] action succeeded: < _app_registered_o_cb                        \n"
     ]
    }
   ],
   "source": [
    "appPointer = myApp.queue.get()"
   ]
  },
  {
   "cell_type": "markdown",
   "metadata": {},
   "source": [
    "---"
   ]
  },
  {
   "cell_type": "markdown",
   "metadata": {},
   "source": [
    "### now we have an app and can start doing stuff"
   ]
  },
  {
   "cell_type": "markdown",
   "metadata": {},
   "source": [
    "---"
   ]
  },
  {
   "cell_type": "code",
   "execution_count": 8,
   "metadata": {},
   "outputs": [],
   "source": [
    "with open('myNewMutableData_as_bytes','rb') as f:\n",
    "    mutableBytes = f.read()"
   ]
  },
  {
   "cell_type": "code",
   "execution_count": 9,
   "metadata": {},
   "outputs": [],
   "source": [
    "ffiMut = safenet.safe_utils.getffiMutable(mutableBytes,myApp.ffi_app)"
   ]
  },
  {
   "cell_type": "code",
   "execution_count": null,
   "metadata": {},
   "outputs": [],
   "source": []
  },
  {
   "cell_type": "code",
   "execution_count": 42,
   "metadata": {},
   "outputs": [],
   "source": [
    "@myApp.ffi_app.callback(\"void(void* , FfiResult*, MDataKey*, uint64_t)\")\n",
    "def result_mdata_list_keys(user_data, result, key, size):\n",
    "    #print('results')\n",
    "    #print('error code: ')\n",
    "    #print(result.error_code)\n",
    "    if result.error_code != 0:\n",
    "        print(myApp.ffi_app.string(result.description))\n",
    "    #print(key.val_len)\n",
    "    #print(size)\n",
    "    if size>0:\n",
    "        #print(key.val_len)\n",
    "        print(myApp.ffi_app.string(key.key))\n",
    "    #returnDict = ffi.from_handle(user_data)\n",
    "    #returnDict['myMdata']=mdataInfo"
   ]
  },
  {
   "cell_type": "code",
   "execution_count": 43,
   "metadata": {},
   "outputs": [],
   "source": [
    "@myApp.ffi_app.callback(\"void(void* , FfiResult*, MDataValue*, uint64_t)\")\n",
    "def result_mdata_list_values(user_data, result, value, size):\n",
    "    #print('results')\n",
    "    #print('error code: ')\n",
    "    #print(result.error_code)\n",
    "    if result.error_code != 0:\n",
    "        print(myApp.ffi_app.string(result.description))\n",
    "    #print(key.val_len)\n",
    "    #print(size)\n",
    "    if size>0:\n",
    "        #print(value.content_len)\n",
    "        print(myApp.ffi_app.string(value.content))\n",
    "    #returnDict = ffi.from_handle(user_data)\n",
    "    #returnDict['myMdata']=mdataInfo"
   ]
  },
  {
   "cell_type": "code",
   "execution_count": 44,
   "metadata": {},
   "outputs": [
    {
     "name": "stdout",
     "output_type": "stream",
     "text": [
      "b'dask'\n"
     ]
    }
   ],
   "source": [
    "myApp.lib.safe_app.mdata_list_keys(appPointer,ffiMut,myApp.ffi_app.NULL,result_mdata_list_keys)"
   ]
  },
  {
   "cell_type": "code",
   "execution_count": 45,
   "metadata": {},
   "outputs": [
    {
     "name": "stdout",
     "output_type": "stream",
     "text": [
      "b'we get closer...'\n"
     ]
    }
   ],
   "source": [
    "myApp.lib.safe_app.mdata_list_values(appPointer,ffiMut,myApp.ffi_app.NULL,result_mdata_list_values)"
   ]
  },
  {
   "cell_type": "code",
   "execution_count": null,
   "metadata": {},
   "outputs": [],
   "source": []
  },
  {
   "cell_type": "code",
   "execution_count": null,
   "metadata": {},
   "outputs": [],
   "source": []
  },
  {
   "cell_type": "code",
   "execution_count": 10,
   "metadata": {},
   "outputs": [],
   "source": [
    "myMutable = safenet.MutableData(mutableBytes)"
   ]
  },
  {
   "cell_type": "code",
   "execution_count": 11,
   "metadata": {},
   "outputs": [
    {
     "name": "stdout",
     "output_type": "stream",
     "text": [
      "[19:09:21.767] pyS.ffi_out:Thread-11 (  safe_app_defs.py: 423) [   DEBUG] checking if the ffi exists                                      \n",
      "[19:09:21.768] pyS.ffi_out:Thread-11 (  safe_app_defs.py: 424) [   DEBUG] <cffi.api.FFI object at 0x7fd75825efd0>                         \n",
      "[19:09:21.769] pyS.ffi_out:Thread-11 (  safe_app_defs.py: 425) [   DEBUG] <bound method FFI.callback of <cffi.api.FFI object at 0x7fd75825efd0>>\n",
      "[19:09:21.771] pyS.ffi_out:Thread-11 (  safe_app_defs.py: 426) [   DEBUG] <cffi.api._make_ffi_library.<locals>.FFILibrary object at 0x7fd74aebd6d8>\n",
      "[19:09:21.773] pyS.ffi_out:Thread-11 (  safe_app_defs.py: 427) [   DEBUG] <cdata 'void(*)(void * *, MDataInfo *, void *, void(*)(void *, FfiResult *, MDataValue *, unsigned long))' 0x7fd74a0edda0>\n",
      "[19:09:21.774] pyS.ffi_out:Thread-11 (  safe_app_defs.py: 428) [   DEBUG] attempting to return mdataValues                                \n",
      "[19:09:21.775] pyS.ffi_out:Thread-11 (  safe_app_defs.py: 429) [   DEBUG] app has type <cdata 'void * *' 0x7fd72c04b320>                  \n",
      "[19:09:21.776] pyS.ffi_out:Thread-11 (  safe_app_defs.py: 430) [   DEBUG] info has type <cdata 'MDataInfo *' owning 160 bytes>            \n",
      "[19:09:21.777] pyS.ffi_out:Thread-11 (  safe_app_defs.py: 431) [   DEBUG] info has type 777                                               \n",
      "[19:09:21.778] pyS.ffi_out:Thread-11 (  safe_app_defs.py: 433) [   DEBUG] info has type b'\\x8f\\x7f\\xdd\\x83\\x1e\\x0e\\xf3^\\xb7\\xf4ie\\xb8\\xb0\\x91^ce\"\\xa0\\xff\\xda\\x8cs&\\x19\\x83\\xb5\\x01\\x88(\\x9d'\n",
      "[19:09:21.778] pyS.ffi_out:Thread-11 (  safe_app_defs.py: 434) [   DEBUG] user_data has type <cdata 'void *' NULL>                        \n",
      "[19:09:21.779] pyS.ffi_out:Thread-11 (  safe_app_defs.py: 435) [   DEBUG] _mdata_list_values_o_cb has type <cdata 'void(*)(void *, FfiResult *, MDataValue *, unsigned long)' calling <function mdata_list_values.<locals>._mdata_list_values.<locals>._mdata_list_values_o_cb at 0x7fd748045158>>\n"
     ]
    }
   ],
   "source": [
    "myMutable.mdata_list_values(appPointer,ffiMut,None)"
   ]
  },
  {
   "cell_type": "code",
   "execution_count": null,
   "metadata": {},
   "outputs": [],
   "source": []
  },
  {
   "cell_type": "code",
   "execution_count": null,
   "metadata": {},
   "outputs": [],
   "source": []
  },
  {
   "cell_type": "code",
   "execution_count": null,
   "metadata": {},
   "outputs": [],
   "source": []
  },
  {
   "cell_type": "code",
   "execution_count": null,
   "metadata": {
    "scrolled": true
   },
   "outputs": [
    {
     "name": "stdout",
     "output_type": "stream",
     "text": [
      "[16:17:17.934] pyS.ffi_out:Thread-13 (  safe_app_defs.py: 557) [   DEBUG] attempting to get a permission handle with userdata <cdata 'void *' NULL> and app <cdata 'void * *' 0x7f8fa0049d60>\n"
     ]
    }
   ],
   "source": [
    "myMutable.mdata_permissions_new(appPointer,None)"
   ]
  },
  {
   "cell_type": "code",
   "execution_count": 14,
   "metadata": {},
   "outputs": [],
   "source": [
    "permissionHandle = myMutable.queue.get_nowait()"
   ]
  },
  {
   "cell_type": "code",
   "execution_count": 15,
   "metadata": {},
   "outputs": [
    {
     "data": {
      "text/plain": [
       "1"
      ]
     },
     "execution_count": 15,
     "metadata": {},
     "output_type": "execute_result"
    }
   ],
   "source": [
    "permissionHandle"
   ]
  },
  {
   "cell_type": "code",
   "execution_count": null,
   "metadata": {},
   "outputs": [],
   "source": []
  },
  {
   "cell_type": "code",
   "execution_count": 13,
   "metadata": {
    "scrolled": true
   },
   "outputs": [
    {
     "name": "stdout",
     "output_type": "stream",
     "text": [
      "[16:17:07.237] pyS.ffi_out:Thread-11 (  safe_app_defs.py: 814) [   DEBUG] attempting to get a entries handle with userdata <cdata 'void *' NULL> and app <cdata 'void * *' 0x7f8fa0049d60>\n",
      "[16:17:07.240] pyS.ffi_in :Dummy-12  (     safe_utils.py: 137) [    INFO] action succeeded: < _mdata_entries_new_o_cb                     \n"
     ]
    }
   ],
   "source": [
    "myMutable.mdata_entries_new(appPointer,None)"
   ]
  },
  {
   "cell_type": "code",
   "execution_count": 14,
   "metadata": {},
   "outputs": [],
   "source": [
    "entryHandle = myMutable.queue.get_nowait()"
   ]
  },
  {
   "cell_type": "code",
   "execution_count": 15,
   "metadata": {},
   "outputs": [
    {
     "data": {
      "text/plain": [
       "1"
      ]
     },
     "execution_count": 15,
     "metadata": {},
     "output_type": "execute_result"
    }
   ],
   "source": [
    "entryHandle"
   ]
  },
  {
   "cell_type": "code",
   "execution_count": null,
   "metadata": {},
   "outputs": [],
   "source": []
  },
  {
   "cell_type": "code",
   "execution_count": 14,
   "metadata": {},
   "outputs": [
    {
     "ename": "AttributeError",
     "evalue": "test",
     "traceback": [
      "\u001b[0;31m---------------------------------------------------------------------------\u001b[0m",
      "\u001b[0;31mAttributeError\u001b[0m                            Traceback (most recent call last)",
      "\u001b[0;32m<ipython-input-14-6b58199fad06>\u001b[0m in \u001b[0;36m<module>\u001b[0;34m\u001b[0m\n\u001b[0;32m----> 1\u001b[0;31m \u001b[0mmyMutable\u001b[0m\u001b[0;34m.\u001b[0m\u001b[0mtest\u001b[0m\u001b[0;34m(\u001b[0m\u001b[0mappPointer\u001b[0m\u001b[0;34m,\u001b[0m\u001b[0;32mNone\u001b[0m\u001b[0;34m)\u001b[0m\u001b[0;34m\u001b[0m\u001b[0;34m\u001b[0m\u001b[0m\n\u001b[0m",
      "\u001b[0;32m~/safe/pySafe/safenet/base_classes.py\u001b[0m in \u001b[0;36m__getattr__\u001b[0;34m(self, item)\u001b[0m\n\u001b[1;32m     92\u001b[0m             \u001b[0;32mreturn\u001b[0m \u001b[0mAutoInvoke\u001b[0m\u001b[0;34m(\u001b[0m\u001b[0mgetattr\u001b[0m\u001b[0;34m(\u001b[0m\u001b[0mself\u001b[0m\u001b[0;34m,\u001b[0m \u001b[0;34mf'_{item}'\u001b[0m\u001b[0;34m)\u001b[0m\u001b[0;34m,\u001b[0m \u001b[0mself\u001b[0m\u001b[0;34m.\u001b[0m\u001b[0mffi_sysUri\u001b[0m\u001b[0;34m)\u001b[0m\u001b[0;34m\u001b[0m\u001b[0;34m\u001b[0m\u001b[0m\n\u001b[1;32m     93\u001b[0m         \u001b[0;32melse\u001b[0m\u001b[0;34m:\u001b[0m\u001b[0;34m\u001b[0m\u001b[0;34m\u001b[0m\u001b[0m\n\u001b[0;32m---> 94\u001b[0;31m             \u001b[0;32mraise\u001b[0m \u001b[0mAttributeError\u001b[0m\u001b[0;34m(\u001b[0m\u001b[0mitem\u001b[0m\u001b[0;34m)\u001b[0m\u001b[0;34m\u001b[0m\u001b[0;34m\u001b[0m\u001b[0m\n\u001b[0m\u001b[1;32m     95\u001b[0m \u001b[0;34m\u001b[0m\u001b[0m\n\u001b[1;32m     96\u001b[0m \u001b[0;34m\u001b[0m\u001b[0m\n",
      "\u001b[0;31mAttributeError\u001b[0m: test"
     ],
     "output_type": "error"
    }
   ],
   "source": [
    "myMutable.test(appPointer,None)"
   ]
  },
  {
   "cell_type": "code",
   "execution_count": 24,
   "metadata": {},
   "outputs": [
    {
     "name": "stderr",
     "output_type": "stream",
     "text": [
      "From cffi callback <function OutStream.write.<locals>.<lambda> at 0x7f85bcee2510>:\n",
      "TypeError: _mdata_permissions_new_o_cb() missing 3 required positional arguments: 'user_data', 'result', and 'perm_h'\n"
     ]
    }
   ],
   "source": [
    "myApp.mutableData.(mdata_permissions_new(appPointer,None))"
   ]
  },
  {
   "cell_type": "code",
   "execution_count": 1,
   "metadata": {},
   "outputs": [
    {
     "ename": "NameError",
     "evalue": "name 'permissionHandle' is not defined",
     "traceback": [
      "\u001b[0;31m---------------------------------------------------------------------------\u001b[0m",
      "\u001b[0;31mNameError\u001b[0m                                 Traceback (most recent call last)",
      "\u001b[0;32m<ipython-input-1-c467be9bb106>\u001b[0m in \u001b[0;36m<module>\u001b[0;34m\u001b[0m\n\u001b[0;32m----> 1\u001b[0;31m \u001b[0mpermissionHandle\u001b[0m\u001b[0;34m\u001b[0m\u001b[0;34m\u001b[0m\u001b[0m\n\u001b[0m",
      "\u001b[0;31mNameError\u001b[0m: name 'permissionHandle' is not defined"
     ],
     "output_type": "error"
    }
   ],
   "source": [
    "permissionHandle"
   ]
  },
  {
   "cell_type": "code",
   "execution_count": null,
   "metadata": {},
   "outputs": [],
   "source": []
  },
  {
   "cell_type": "code",
   "execution_count": 22,
   "metadata": {
    "scrolled": true
   },
   "outputs": [
    {
     "data": {
      "text/plain": [
       "<cdata 'void * *' 0x7f85b80c8c90>"
      ]
     },
     "execution_count": 22,
     "metadata": {},
     "output_type": "execute_result"
    }
   ],
   "source": [
    "appPointer"
   ]
  },
  {
   "cell_type": "code",
   "execution_count": null,
   "metadata": {},
   "outputs": [],
   "source": []
  },
  {
   "cell_type": "code",
   "execution_count": 4,
   "metadata": {},
   "outputs": [
    {
     "data": {
      "text/plain": [
       "'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'"
      ]
     },
     "execution_count": 4,
     "metadata": {},
     "output_type": "execute_result"
    }
   ],
   "source": [
    "grantedAuth"
   ]
  },
  {
   "cell_type": "code",
   "execution_count": null,
   "metadata": {},
   "outputs": [],
   "source": []
  },
  {
   "cell_type": "code",
   "execution_count": null,
   "metadata": {},
   "outputs": [],
   "source": []
  },
  {
   "cell_type": "code",
   "execution_count": null,
   "metadata": {},
   "outputs": [],
   "source": []
  },
  {
   "cell_type": "code",
   "execution_count": null,
   "metadata": {},
   "outputs": [],
   "source": []
  },
  {
   "cell_type": "code",
   "execution_count": null,
   "metadata": {},
   "outputs": [],
   "source": [
    "\n",
    "\n",
    "def getAuthReqForAppdict(appDict,reqFun,ffi=None):\n",
    "    \n",
    "    newPermissions,permission_addon=ContainerPermissions(b'_music')\n",
    "    myAuth,addData=AuthReq(newPermissions,1,1,id=b'newProgId_unique_thing',scope=b'lalali'\n",
    "                           ,name=b'newProgramName',vendor=b'nobody',app_container=True)    \n",
    "    \n",
    "    \n",
    "    \n",
    "    infopayload=[]\n",
    "    if 'permissions' in appDict:\n",
    "        permissionNum = len(appDict['permissions'])\n",
    "        permissions = ffi.new(f'ContainerPermissions[{permissionNum}]')\n",
    "        for idx, onePermission in enumerate(appDict['permissions']):\n",
    "            permissions[idx].access = PermissionSet(ffi=ffi,**ensure_correct_form(**onePermission['access']))[0]\n",
    "            #newContainer,addInfo = ContainerPermissions(*ensure_correct_form(ffi,onePermission['name']),access=newPermissionset,ffi=ffi)\n",
    "            oneContainerName = ffi.new('char[]',ensure_correct_form(ffi,onePermission['name'])[0])\n",
    "            permissions[idx].cont_name = oneContainerName \n",
    "            #permissions[idx]=newContainer[0]\n",
    "            #infopayload.append(addInfo)\n",
    "    else:\n",
    "        permissionNum = 0\n",
    "        permissions = ffi.NULL\n",
    "    print(str({item:appDict[item] for item in appDict if not item == 'permissions'}))\n",
    "    authReq,addData = reqFun(permissions,permissionNum,permissionNum,ffi=ffi,**ensure_correct_form(**{item:appDict[item] for item in appDict if not item == 'permissions'}))\n",
    "    return authReq,[addData,infopayload]\n",
    "\n",
    "    "
   ]
  },
  {
   "cell_type": "code",
   "execution_count": 5,
   "metadata": {
    "scrolled": true
   },
   "outputs": [
    {
     "name": "stdout",
     "output_type": "stream",
     "text": [
      "[03:56:39.848] pyS.ffi_in :Thread-5  (     safe_utils.py: 136) [    INFO] action succeeded: < _auth_exe_file_stem_o_cb                    \n",
      "[03:56:39.850] pyS.ffi_in :Thread-4  (     safe_utils.py: 136) [    INFO] action succeeded: < _auth_set_additional_search_path_o_cb       \n"
     ]
    }
   ],
   "source": [
    "access = {'delete' : True, 'insert' : True, 'manage_permissions' : True, 'read' : True, 'update' : True }\n",
    "onePermission = { 'access' : access, 'name' : '_testStuff'}\n",
    "\n",
    "appDict = { 'permissions' : [onePermission], 'id' : 'UniqueName', 'scope' : 'ScopeOfApp', 'name' : 'AppNewName',\n",
    "          'vendor' : 'AppVendor', 'app_container' : True}"
   ]
  },
  {
   "cell_type": "code",
   "execution_count": 6,
   "metadata": {
    "scrolled": true
   },
   "outputs": [
    {
     "name": "stdout",
     "output_type": "stream",
     "text": [
      "{'id': 'UniqueName', 'scope': 'ScopeOfApp', 'name': 'AppNewName', 'vendor': 'AppVendor', 'app_container': True}\n"
     ]
    }
   ],
   "source": [
    "myAuth_,addData = safenet.safe_utils.getAuthReqForAppdict(appDict,safenet.safe_utils.AuthReq,myApp.ffi_app)"
   ]
  },
  {
   "cell_type": "code",
   "execution_count": null,
   "metadata": {},
   "outputs": [],
   "source": []
  },
  {
   "cell_type": "markdown",
   "metadata": {},
   "source": [
    "---\n",
    "\n",
    "this needs to become nicer\n",
    "\n",
    "---"
   ]
  },
  {
   "cell_type": "code",
   "execution_count": 19,
   "metadata": {},
   "outputs": [],
   "source": [
    "grantedAuth = myApp._decode_ipc_msg(msg,myHand)"
   ]
  },
  {
   "cell_type": "code",
   "execution_count": 20,
   "metadata": {},
   "outputs": [
    {
     "name": "stdout",
     "output_type": "stream",
     "text": [
      "action succeeded\n"
     ]
    }
   ],
   "source": [
    "appItself = myApp._app_registered(myAuth_.app.id,grantedAuth[0],myApp.ffi_app.NULL)"
   ]
  },
  {
   "cell_type": "code",
   "execution_count": 21,
   "metadata": {},
   "outputs": [],
   "source": [
    "with open('safenet/myNewMutableData_as_bytes','rb') as f:\n",
    "    readData=f.read()"
   ]
  },
  {
   "cell_type": "code",
   "execution_count": 22,
   "metadata": {},
   "outputs": [],
   "source": [
    "dataOnSafe=safenet.safeUtils.getffiMutable(readData,myApp.ffi_app)"
   ]
  },
  {
   "cell_type": "code",
   "execution_count": null,
   "metadata": {},
   "outputs": [],
   "source": []
  },
  {
   "cell_type": "code",
   "execution_count": 23,
   "metadata": {},
   "outputs": [],
   "source": [
    "@myApp.ffi_app.callback(\"void(void* , FfiResult*, MDataKey*, uint64_t)\")\n",
    "def result_mdata_list_keys(user_data, result, key, size):\n",
    "    if result.error_code != 0:\n",
    "        print(myApp.ffi_app.string(result.description))\n",
    "    if size>0:\n",
    "        print(myApp.ffi_app.string(key.key))"
   ]
  },
  {
   "cell_type": "code",
   "execution_count": 24,
   "metadata": {},
   "outputs": [],
   "source": [
    "@myApp.ffi_app.callback(\"void(void* , FfiResult*, MDataValue*, uint64_t)\")\n",
    "def result_mdata_list_values(user_data, result, value, size):\n",
    "    if result.error_code != 0:\n",
    "        print(ffi.string(result.description))\n",
    "    if size>0:\n",
    "        print(ffi.string(value.content))"
   ]
  },
  {
   "cell_type": "code",
   "execution_count": 25,
   "metadata": {},
   "outputs": [
    {
     "name": "stdout",
     "output_type": "stream",
     "text": [
      "b'dask'\n"
     ]
    }
   ],
   "source": [
    "myApp.lib.safe_app.mdata_list_keys(appItself,dataOnSafe,myApp.ffi_app.NULL,result_mdata_list_keys)"
   ]
  },
  {
   "cell_type": "code",
   "execution_count": 26,
   "metadata": {},
   "outputs": [
    {
     "name": "stdout",
     "output_type": "stream",
     "text": [
      "b'we get closer...'\n"
     ]
    }
   ],
   "source": [
    "myApp.lib.safe_app.mdata_list_values(appItself,dataOnSafe,myApp.ffi_app.NULL,result_mdata_list_values)"
   ]
  },
  {
   "cell_type": "markdown",
   "metadata": {},
   "source": [
    "---\n",
    "### why doesn't this work?\n",
    "---"
   ]
  },
  {
   "cell_type": "code",
   "execution_count": null,
   "metadata": {},
   "outputs": [],
   "source": [
    "myApp.mutableData._mdata_list_keys(appItself,dataOnSafe,myApp.ffi_app.NULL)"
   ]
  },
  {
   "cell_type": "code",
   "execution_count": null,
   "metadata": {},
   "outputs": [],
   "source": [
    "myApp.mutableData._mdata_list_values(appItself,dataOnSafe,myApp.ffi_app.NULL)"
   ]
  },
  {
   "cell_type": "code",
   "execution_count": null,
   "metadata": {},
   "outputs": [],
   "source": []
  },
  {
   "cell_type": "code",
   "execution_count": 113,
   "metadata": {},
   "outputs": [],
   "source": [
    "access = {'delete' : True, 'insert' : True, 'manage_permissions' : True, 'read' : True, 'update' : True }\n",
    "containerName ='_music'\n",
    "onePermission = { 'access' : access, 'name' : containerName}\n",
    "\n",
    "appDict = { 'permissions' : [onePermission], 'id' : 'UniqueName', 'scope' : 'ScopeOfApp', 'name' : 'AppName',\n",
    "          'vendor' : 'AppVendor', 'app_container' : True}"
   ]
  },
  {
   "cell_type": "code",
   "execution_count": 148,
   "metadata": {},
   "outputs": [],
   "source": [
    "myAuth_,addData=safenet.safe_utils.AuthReq(permissions,1,1,id=b'newProgId_unique_thing',scope=b'lalali'\n",
    "                       ,name=b'newProgramName',vendor=b'nobody',app_container=True,ffi=myApp.ffi_app)"
   ]
  },
  {
   "cell_type": "code",
   "execution_count": 117,
   "metadata": {},
   "outputs": [],
   "source": [
    "appDict = { 'permissions' : [onePermission], 'id' : 'UniqueName', 'scope' : 'ScopeOfApp', 'name' : 'AppName',\n",
    "          'vendor' : 'AppVendor', 'app_container' : True}"
   ]
  },
  {
   "cell_type": "code",
   "execution_count": null,
   "metadata": {},
   "outputs": [],
   "source": []
  },
  {
   "cell_type": "code",
   "execution_count": 118,
   "metadata": {},
   "outputs": [
    {
     "data": {
      "text/plain": [
       "{'permissions': [{'access': {'delete': True,\n",
       "    'insert': False,\n",
       "    'manage_permissions': True,\n",
       "    'read': True,\n",
       "    'update': 13},\n",
       "   'name': '_music'}],\n",
       " 'id': 'UniqueName',\n",
       " 'scope': 'ScopeOfApp',\n",
       " 'name': 'AppName',\n",
       " 'vendor': 'AppVendor',\n",
       " 'ownContainer': True}"
      ]
     },
     "execution_count": 118,
     "metadata": {},
     "output_type": "execute_result"
    }
   ],
   "source": [
    "appDict"
   ]
  },
  {
   "cell_type": "code",
   "execution_count": null,
   "metadata": {},
   "outputs": [],
   "source": []
  }
 ],
 "metadata": {
  "kernelspec": {
   "display_name": "Python 3",
   "language": "python",
   "name": "python3"
  },
  "language_info": {
   "codemirror_mode": {
    "name": "ipython",
    "version": 3
   },
   "file_extension": ".py",
   "mimetype": "text/x-python",
   "name": "python",
   "nbconvert_exporter": "python",
   "pygments_lexer": "ipython3",
   "version": "3.6.7"
  }
 },
 "nbformat": 4,
 "nbformat_minor": 2
}
