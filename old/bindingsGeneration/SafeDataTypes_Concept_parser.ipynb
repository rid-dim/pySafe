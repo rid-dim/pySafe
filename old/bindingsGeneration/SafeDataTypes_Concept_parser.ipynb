{
 "cells": [
  {
   "cell_type": "markdown",
   "metadata": {},
   "source": [
    "I would suggest to just utilize the C headers once they are finished and steal those declarations as suggestes in the SAFE_dataParser.ipynb\n",
    "\n",
    "then we'd have all the data types and function declarations as we need them (with little editing) to use them for cffi\n",
    "\n",
    "![image of preprocessing](preprocessing.png)"
   ]
  },
  {
   "cell_type": "code",
   "execution_count": null,
   "metadata": {
    "collapsed": true
   },
   "outputs": [],
   "source": []
  },
  {
   "cell_type": "markdown",
   "metadata": {},
   "source": [
    "---"
   ]
  },
  {
   "cell_type": "markdown",
   "metadata": {},
   "source": [
    "#### after having those first declarations the following concept parser re-orders the declarations and edits it a bit to fit the exact format cffi needs (and generates python class definitions for the corresponding c classes for easier debugging when using the python bindings later on)"
   ]
  },
  {
   "cell_type": "code",
   "execution_count": 1,
   "metadata": {
    "collapsed": true
   },
   "outputs": [],
   "source": [
    "from cffi import FFI\n",
    "ffi = FFI()"
   ]
  },
  {
   "cell_type": "code",
   "execution_count": 2,
   "metadata": {
    "collapsed": true
   },
   "outputs": [],
   "source": [
    "finalDeclarations=[]"
   ]
  },
  {
   "cell_type": "code",
   "execution_count": 3,
   "metadata": {
    "collapsed": true
   },
   "outputs": [],
   "source": [
    "datatypes='''\n",
    "typedef signed char int8_t;\n",
    "typedef int int32_t;\n",
    "typedef unsigned short int uint16_t;\n",
    "typedef unsigned int uint32_t;\n",
    "typedef unsigned long int uint64_t;\n",
    "typedef signed char int_least8_t;\n",
    "typedef short int int_least16_t;\n",
    "typedef struct RandomOtherStruct{\n",
    "    RandomStruct* randomData;\n",
    "    FfiResult* result;\n",
    "} RandomOtherStruct;\n",
    "typedef struct RandomStruct{\n",
    "    int32_t error_code;\n",
    "    FfiResult result;\n",
    "} RandomStruct;\n",
    "typedef struct FfiResult{\n",
    "    int32_t error_code;\n",
    "    char* description;\n",
    "} FfiResult;\n",
    "typedef struct Authenticator{\n",
    "    user_h* core_tx;\n",
    "    void* _core_joiner;\n",
    "} Authenticator;\n",
    "typedef struct Registered{\n",
    "    int8_t* sym_enc_key;\n",
    "    int8_t sym_enc_key2;\n",
    "} Registered;\n",
    "typedef enum MDataAction {\n",
    " MDataAction_Insert,\n",
    " MDataAction_Update,\n",
    " MDataAction_Delete,\n",
    " MDataAction_ManagePermissions,\n",
    "} MDataAction;\n",
    "typedef struct UserPermissionSet {\n",
    " SignPubKeyHandle user_h;\n",
    " FfiPermissionSet perm_set;\n",
    "} UserPermissionSet;\n",
    "'''"
   ]
  },
  {
   "cell_type": "code",
   "execution_count": 4,
   "metadata": {
    "collapsed": false
   },
   "outputs": [],
   "source": [
    "import re\n",
    "oneliners=re.compile('typedef.+?;')\n",
    "myStructTypes=re.compile('typedef struct .+?}.+?;', flags=re.DOTALL)\n",
    "myEnumTypes=re.compile('typedef enum .+?}.+?;', flags=re.DOTALL)\n",
    "structAliasName=re.compile('struct .+?{')\n",
    "enumAliasName=re.compile('enum .+?{')\n",
    "allOneLiners=oneliners.findall(datatypes)\n",
    "allMyStructs=myStructTypes.findall(datatypes)\n",
    "allMyEnums=myEnumTypes.findall(datatypes)"
   ]
  },
  {
   "cell_type": "markdown",
   "metadata": {},
   "source": [
    "allOneLiners"
   ]
  },
  {
   "cell_type": "code",
   "execution_count": 5,
   "metadata": {
    "collapsed": false
   },
   "outputs": [
    {
     "name": "stdout",
     "output_type": "stream",
     "text": [
      "typedef signed char int8_t;\n",
      "typedef int int32_t;\n",
      "typedef unsigned short int uint16_t;\n",
      "typedef unsigned int uint32_t;\n",
      "typedef unsigned long int uint64_t;\n",
      "typedef signed char int_least8_t;\n",
      "typedef short int int_least16_t;\n"
     ]
    }
   ],
   "source": [
    "for oneline in allOneLiners:\n",
    "    print(oneline)\n",
    "    ffi.cdef(oneline)\n",
    "    finalDeclarations.append(oneline)"
   ]
  },
  {
   "cell_type": "code",
   "execution_count": 6,
   "metadata": {
    "collapsed": true
   },
   "outputs": [],
   "source": [
    "def getVarProperties(line):\n",
    "    isPointer = '*' in line\n",
    "    if isPointer:\n",
    "        isPointer = 'isPointer'\n",
    "    else:\n",
    "        isPointer = 'noPointer'\n",
    "    name=line.split()[-1][:-1]\n",
    "    datatype = ' '.join(line.split()[:-1])\n",
    "    return name, datatype.strip('*'), isPointer"
   ]
  },
  {
   "cell_type": "code",
   "execution_count": 7,
   "metadata": {
    "collapsed": false
   },
   "outputs": [],
   "source": [
    "def getAllProperties(struct,dictWithVarsAndTypes={}):\n",
    "    if 'enum' in struct.splitlines()[0]:\n",
    "        dictWithVarsAndTypes[struct.splitlines()[-1][2:-1]]={}\n",
    "        dictWithVarsAndTypes[struct.splitlines()[-1][2:-1]]['declaration']=structAliasName.sub('struct {',struct)\n",
    "        return struct.splitlines()[-1][2:-1], 'enum', dictWithVarsAndTypes\n",
    "        #return struct.splitlines()[-1][2:-1], 'enum', enumAliasName.sub('enum {',struct)\n",
    "    if 'struct' in struct.splitlines()[0]:\n",
    "        lali=[]\n",
    "        types=[]\n",
    "        for i in struct.splitlines()[1:-1]:\n",
    "            lali.append(getVarProperties(i))\n",
    "            types.append(lali[-1][1])\n",
    "        dictWithVarsAndTypes[struct.splitlines()[-1][2:-1]]={}\n",
    "        dictWithVarsAndTypes[struct.splitlines()[-1][2:-1]]['nameVarTypes']=lali\n",
    "        dictWithVarsAndTypes[struct.splitlines()[-1][2:-1]]['types']=types\n",
    "        dictWithVarsAndTypes[struct.splitlines()[-1][2:-1]]['declaration']=structAliasName.sub('struct {',struct)\n",
    "        return struct.splitlines()[-1][2:-1], 'struct', dictWithVarsAndTypes"
   ]
  },
  {
   "cell_type": "markdown",
   "metadata": {},
   "source": [
    "getAllProperties(allMyEnums[0])"
   ]
  },
  {
   "cell_type": "code",
   "execution_count": 8,
   "metadata": {
    "collapsed": true
   },
   "outputs": [],
   "source": [
    "def checkIfDefined(name,checkDict):\n",
    "    for onetype in checkDict[name]['types']:\n",
    "        try:\n",
    "            ffi.typeof(onetype)\n",
    "        except:\n",
    "            return False\n",
    "    return True"
   ]
  },
  {
   "cell_type": "markdown",
   "metadata": {},
   "source": [
    "getAllProperties(allMyStructs[3],myDict)"
   ]
  },
  {
   "cell_type": "markdown",
   "metadata": {},
   "source": [
    "myDict.keys()"
   ]
  },
  {
   "cell_type": "markdown",
   "metadata": {},
   "source": [
    "checkIfDefined('Authenticator',myDict)"
   ]
  },
  {
   "cell_type": "code",
   "execution_count": 9,
   "metadata": {
    "collapsed": false
   },
   "outputs": [
    {
     "name": "stdout",
     "output_type": "stream",
     "text": [
      "typedef enum MDataAction {\n",
      " MDataAction_Insert,\n",
      " MDataAction_Update,\n",
      " MDataAction_Delete,\n",
      " MDataAction_ManagePermissions,\n",
      "} MDataAction;\n"
     ]
    }
   ],
   "source": [
    "definedStructs=[]\n",
    "myDict={}\n",
    "\n",
    "for oneStruct in allMyEnums:\n",
    "    name, datatype, myDict = getAllProperties(oneStruct,myDict)\n",
    "    print(myDict[name]['declaration'])\n",
    "    #print(myDict)\n",
    "    ffi.cdef(myDict[name]['declaration'])\n",
    "    finalDeclarations.append(myDict[name]['declaration'])\n",
    "    definedStructs.append(name)\n",
    "    "
   ]
  },
  {
   "cell_type": "code",
   "execution_count": 10,
   "metadata": {
    "collapsed": false
   },
   "outputs": [
    {
     "name": "stdout",
     "output_type": "stream",
     "text": [
      "typedef struct {\n",
      "    int32_t error_code;\n",
      "    char* description;\n",
      "} FfiResult;\n",
      "typedef struct {\n",
      "    int8_t* sym_enc_key;\n",
      "    int8_t sym_enc_key2;\n",
      "} Registered;\n"
     ]
    }
   ],
   "source": [
    "\n",
    "for oneStruct in allMyStructs:\n",
    "    name, datatype, myDict = getAllProperties(oneStruct,myDict)\n",
    "    if checkIfDefined(name, myDict):\n",
    "        print(myDict[name]['declaration'])\n",
    "        #print(myDict)\n",
    "        ffi.cdef(myDict[name]['declaration'])\n",
    "        finalDeclarations.append(myDict[name]['declaration'])\n",
    "        definedStructs.append(name)\n",
    "    "
   ]
  },
  {
   "cell_type": "code",
   "execution_count": 11,
   "metadata": {
    "collapsed": true
   },
   "outputs": [],
   "source": [
    "def getNotDefinedStructs(definedStructs,allStructDict):\n",
    "    notDefined=[]\n",
    "    for oneName in allStructDict.keys():\n",
    "        if oneName not in definedStructs:\n",
    "            notDefined.append(oneName)\n",
    "    return notDefined"
   ]
  },
  {
   "cell_type": "code",
   "execution_count": 12,
   "metadata": {
    "collapsed": true
   },
   "outputs": [],
   "source": [
    "def defineDatatTypes(maxIterations=int(1e3)):\n",
    "    for i in range(maxIterations):\n",
    "        #print(i)\n",
    "        toBeDefined = getNotDefinedStructs(definedStructs,myDict)\n",
    "        #print(toBeDefined)\n",
    "        if len(toBeDefined) == 0:\n",
    "            print(finished)\n",
    "            break\n",
    "        for oneDefine in toBeDefined:\n",
    "            if checkIfDefined(oneDefine, myDict):\n",
    "                print(myDict[oneDefine]['declaration'])\n",
    "                #print(myDict)\n",
    "                ffi.cdef(myDict[oneDefine]['declaration'])\n",
    "                finalDeclarations.append(myDict[oneDefine]['declaration'])\n",
    "                definedStructs.append(oneDefine)\n",
    "                \n",
    "    return finalDeclarations, toBeDefined"
   ]
  },
  {
   "cell_type": "code",
   "execution_count": 13,
   "metadata": {
    "collapsed": false
   },
   "outputs": [
    {
     "name": "stdout",
     "output_type": "stream",
     "text": [
      "typedef struct {\n",
      "    int32_t error_code;\n",
      "    FfiResult result;\n",
      "} RandomStruct;\n",
      "typedef struct {\n",
      "    RandomStruct* randomData;\n",
      "    FfiResult* result;\n",
      "} RandomOtherStruct;\n"
     ]
    }
   ],
   "source": [
    "finalDeclarations, stillNotDefined = defineDatatTypes()"
   ]
  },
  {
   "cell_type": "code",
   "execution_count": 14,
   "metadata": {
    "collapsed": false
   },
   "outputs": [
    {
     "data": {
      "text/plain": [
       "['UserPermissionSet', 'Authenticator']"
      ]
     },
     "execution_count": 14,
     "metadata": {},
     "output_type": "execute_result"
    }
   ],
   "source": [
    "stillNotDefined"
   ]
  },
  {
   "cell_type": "code",
   "execution_count": 15,
   "metadata": {
    "collapsed": false
   },
   "outputs": [
    {
     "name": "stdout",
     "output_type": "stream",
     "text": [
      "typedef signed char int8_t;\n",
      "typedef int int32_t;\n",
      "typedef unsigned short int uint16_t;\n",
      "typedef unsigned int uint32_t;\n",
      "typedef unsigned long int uint64_t;\n",
      "typedef signed char int_least8_t;\n",
      "typedef short int int_least16_t;\n",
      "typedef enum MDataAction {\n",
      " MDataAction_Insert,\n",
      " MDataAction_Update,\n",
      " MDataAction_Delete,\n",
      " MDataAction_ManagePermissions,\n",
      "} MDataAction;\n",
      "typedef struct {\n",
      "    int32_t error_code;\n",
      "    char* description;\n",
      "} FfiResult;\n",
      "typedef struct {\n",
      "    int8_t* sym_enc_key;\n",
      "    int8_t sym_enc_key2;\n",
      "} Registered;\n",
      "typedef struct {\n",
      "    int32_t error_code;\n",
      "    FfiResult result;\n",
      "} RandomStruct;\n",
      "typedef struct {\n",
      "    RandomStruct* randomData;\n",
      "    FfiResult* result;\n",
      "} RandomOtherStruct;\n"
     ]
    }
   ],
   "source": [
    "with open('../../pySafe/extracted_headers/safe_c_ffi_data.h','w') as f:\n",
    "    for eachline in finalDeclarations:\n",
    "        f.writelines(eachline+'\\n')\n",
    "        print(eachline)"
   ]
  },
  {
   "cell_type": "markdown",
   "metadata": {},
   "source": [
    "---"
   ]
  },
  {
   "cell_type": "markdown",
   "metadata": {},
   "source": [
    "myDict['FfiResult']['nameVarTypes']"
   ]
  },
  {
   "cell_type": "code",
   "execution_count": 16,
   "metadata": {
    "collapsed": false
   },
   "outputs": [],
   "source": [
    "def checkIfNumeric(dataType):\n",
    "    return dataType in ' '.join(allOneLiners)"
   ]
  },
  {
   "cell_type": "code",
   "execution_count": 17,
   "metadata": {
    "collapsed": false
   },
   "outputs": [],
   "source": [
    "def printDeclarationForChar(name):\n",
    "    print('''        if type(''' + name + ''') == bytes:\n",
    "            self.''' + name + ''' = ffi.new('char[]',''' + name + ''')\n",
    "        else:\n",
    "            print(\\'''' + name + ''' is not data type bytes')\n",
    "            self.''' + name + ''' = ffi.new('char[]',b'')''')\n",
    "    return 'self.'+name"
   ]
  },
  {
   "cell_type": "code",
   "execution_count": 18,
   "metadata": {
    "collapsed": false
   },
   "outputs": [],
   "source": [
    "def printDeclarationForNumeric(name,dataType,isPointer):\n",
    "    if 'isPointer' == isPointer:\n",
    "        print('''        self.''' + name + ''' = ffi.new(\\'''' + dataType + ''' *',''' + name + ''')''')\n",
    "        return 'self.'+name\n",
    "    else:\n",
    "        print('''        self.''' + name + ''' = ''' + name + '''''')\n",
    "        return 'self.'+name"
   ]
  },
  {
   "cell_type": "code",
   "execution_count": 19,
   "metadata": {
    "collapsed": false
   },
   "outputs": [],
   "source": [
    "def printDeclarationForStructs(name,dataType,isPointer):\n",
    "\n",
    "    if 'isPointer' == isPointer:\n",
    "        print('''        self.''' + name + ''' = ''' + dataType + '''()''')\n",
    "        return 'self.'+name+'.entity'\n",
    "    else:\n",
    "        print('''        self.''' + name + ''' = ''' + dataType + '''()''')\n",
    "        return 'self.'+name+'.entity[0]'"
   ]
  },
  {
   "cell_type": "markdown",
   "metadata": {},
   "source": [
    "allOneLiners"
   ]
  },
  {
   "cell_type": "markdown",
   "metadata": {},
   "source": [
    "checkIfNumeric('uint16_t')"
   ]
  },
  {
   "cell_type": "code",
   "execution_count": 20,
   "metadata": {
    "collapsed": false
   },
   "outputs": [
    {
     "name": "stdout",
     "output_type": "stream",
     "text": [
      "class FfiResult:\n",
      "    def __init__(self,error_code=0,description=b''):\n",
      "        self.error_code = error_code\n",
      "        if type(description) == bytes:\n",
      "            self.description = ffi.new('char[]',description)\n",
      "        else:\n",
      "            print('description is not data type bytes')\n",
      "            self.description = ffi.new('char[]',b'')\n",
      "\n",
      "        self.entity = ffi.new('FfiResult *',[self.error_code,self.description])\n",
      "\n",
      "class UserPermissionSet:\n",
      "    def __init__(self):\n",
      "        self.user_h = SignPubKeyHandle()\n",
      "        self.perm_set = FfiPermissionSet()\n",
      "\n",
      "        self.entity = ffi.new('UserPermissionSet *',[self.user_h.entity[0],self.perm_set.entity[0]])\n",
      "\n",
      "class Registered:\n",
      "    def __init__(self,sym_enc_key=0,sym_enc_key2=0):\n",
      "        self.sym_enc_key = ffi.new('int8_t *',sym_enc_key)\n",
      "        self.sym_enc_key2 = sym_enc_key2\n",
      "\n",
      "        self.entity = ffi.new('Registered *',[self.sym_enc_key,self.sym_enc_key2])\n",
      "\n",
      "class RandomOtherStruct:\n",
      "    def __init__(self):\n",
      "        self.randomData = RandomStruct()\n",
      "        self.result = FfiResult()\n",
      "\n",
      "        self.entity = ffi.new('RandomOtherStruct *',[self.randomData.entity,self.result.entity])\n",
      "\n",
      "class Authenticator:\n",
      "    def __init__(self):\n",
      "        self.core_tx = user_h()\n",
      "        self._core_joiner = void()\n",
      "\n",
      "        self.entity = ffi.new('Authenticator *',[self.core_tx.entity,self._core_joiner.entity])\n",
      "\n",
      "class RandomStruct:\n",
      "    def __init__(self,error_code=0):\n",
      "        self.error_code = error_code\n",
      "        self.result = FfiResult()\n",
      "\n",
      "        self.entity = ffi.new('RandomStruct *',[self.error_code,self.result.entity[0]])\n",
      "\n"
     ]
    }
   ],
   "source": [
    "for name in myDict:\n",
    "    if 'nameVarTypes' in myDict[name].keys():\n",
    "        print('class ' + name + ':')\n",
    "        initLine='    def __init__(self'\n",
    "        for oneDef in myDict[name]['nameVarTypes']:\n",
    "            if 'char' in oneDef[1]:\n",
    "                initLine += ',' + oneDef[0] + '=b\\'\\''\n",
    "            elif checkIfNumeric(oneDef[1]):\n",
    "                initLine += ',' + oneDef[0] + '=0'\n",
    "        initLine += '):'\n",
    "        print(initLine)\n",
    "\n",
    "        innerVars=[]\n",
    "        for oneDef in myDict[name]['nameVarTypes']:\n",
    "            if 'char' in oneDef[1]:\n",
    "                innerVars.append(printDeclarationForChar(oneDef[0]))\n",
    "            elif checkIfNumeric(oneDef[1]):\n",
    "                innerVars.append(printDeclarationForNumeric(oneDef[0],oneDef[1],oneDef[2]))\n",
    "            else:\n",
    "                innerVars.append(printDeclarationForStructs(oneDef[0],oneDef[1],oneDef[2]))\n",
    "\n",
    "        print()\n",
    "        finalLine='''        self.entity = ffi.new(\\'''' + name + ''' *\\',['''\n",
    "        for innerVar in innerVars:\n",
    "            finalLine += innerVar + ','\n",
    "        finalLine = finalLine[:-1] + '])'\n",
    "        print(finalLine)\n",
    "        print()"
   ]
  },
  {
   "cell_type": "code",
   "execution_count": null,
   "metadata": {
    "collapsed": true
   },
   "outputs": [],
   "source": []
  },
  {
   "cell_type": "markdown",
   "metadata": {},
   "source": [
    "---"
   ]
  },
  {
   "cell_type": "markdown",
   "metadata": {},
   "source": [
    "those here are just function ideas i had but not sure if it makes sense to implement them since they basically would be native cffi-functions with a new name (and maybe 1 argument less)"
   ]
  },
  {
   "cell_type": "markdown",
   "metadata": {},
   "source": [
    "---"
   ]
  },
  {
   "cell_type": "code",
   "execution_count": 21,
   "metadata": {
    "collapsed": true
   },
   "outputs": [],
   "source": [
    "class cstr:\n",
    "    def __init__(self,myStringToCreate):\n",
    "        self.entity = ffi.new('char[]',myStringToCreate)"
   ]
  },
  {
   "cell_type": "code",
   "execution_count": 22,
   "metadata": {
    "collapsed": true
   },
   "outputs": [],
   "source": [
    "def to_void(data):\n",
    "    return ffi.new_handle(data)"
   ]
  },
  {
   "cell_type": "code",
   "execution_count": 23,
   "metadata": {
    "collapsed": true
   },
   "outputs": [],
   "source": [
    "def from_void(data):\n",
    "    return ffi.from_handle(data)"
   ]
  },
  {
   "cell_type": "code",
   "execution_count": null,
   "metadata": {
    "collapsed": true
   },
   "outputs": [],
   "source": []
  },
  {
   "cell_type": "code",
   "execution_count": null,
   "metadata": {
    "collapsed": true
   },
   "outputs": [],
   "source": []
  },
  {
   "cell_type": "code",
   "execution_count": null,
   "metadata": {
    "collapsed": true
   },
   "outputs": [],
   "source": []
  },
  {
   "cell_type": "code",
   "execution_count": null,
   "metadata": {
    "collapsed": true
   },
   "outputs": [],
   "source": []
  },
  {
   "cell_type": "code",
   "execution_count": null,
   "metadata": {
    "collapsed": true
   },
   "outputs": [],
   "source": []
  }
 ],
 "metadata": {
  "kernelspec": {
   "display_name": "Python 3",
   "language": "python",
   "name": "python3"
  },
  "language_info": {
   "codemirror_mode": {
    "name": "ipython",
    "version": 3
   },
   "file_extension": ".py",
   "mimetype": "text/x-python",
   "name": "python",
   "nbconvert_exporter": "python",
   "pygments_lexer": "ipython3",
   "version": "3.4.5"
  }
 },
 "nbformat": 4,
 "nbformat_minor": 2
}
