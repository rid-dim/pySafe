{
 "cells": [
  {
   "cell_type": "markdown",
   "metadata": {},
   "source": [
    "---"
   ]
  },
  {
   "cell_type": "markdown",
   "metadata": {},
   "source": [
    "# App"
   ]
  },
  {
   "cell_type": "markdown",
   "metadata": {},
   "source": [
    "---"
   ]
  },
  {
   "cell_type": "code",
   "execution_count": 1,
   "metadata": {},
   "outputs": [
    {
     "name": "stdout",
     "output_type": "stream",
     "text": [
      "SAFE python-rust interface generated, bound and available\n"
     ]
    }
   ],
   "source": [
    "import safenet\n",
    "safenet.setup_logger(file_level=safenet.log_util.WARNING)\n",
    "myApp = safenet.App()\n",
    "\n",
    "grantedAuth = 'bAEAAAAA22X6O4AAAAAAAAAAAAAQAAAAAAAAAAACGXDI7FJQJGFWTNW3C6KKWWNKBOOU4OVE3T23X7XQZHHMYK6SFOMQAAAAAAAAAAAAGJW4ZRRI6ZMOUYL6TVN4JXT4UXSX7LLJ2FLPFKJNXWY2QXGGTKIQAAAAAAAAAAAF3ZA2HS52IHNPYCNPHSRSHEFIU3ANOS56YMQTVLFPCBJYASAQLXNAAAAAAAAAAAAGQLE3OAQLBGFLOZXTKEFHPKSNYBYPTXEVOBSUP6DR7T5T6C5BDRO54QNDZO5EDWX4BGXTZIZDSCUKNQGXJO7MGIJ2VSXRAU4AJAIF3WIAAAAAAAAAAAAAHROX26R63EZUQBWCKZQMAH6UTUKGBD4BL7XPFPUK2PZT4PO6QOIAAAAAAAAAAAD2X7DZB3BEGJXXQJYX5GG5W3IW4WLWNKFF5EQYSG7S3V4VSVVPYEGIAAAAAAAAAAAIAAAAAAAAAAABRG44C4NRSFY3TMLRYHI2TIOBTCMAAAAAAAAAAAMJTHAXDMOBOGE4DKLRSGE4DUNJUHAZREAAAAAAAAAAAGEZTQLRWHAXDCOBRFY2TOORVGQ4DGEQAAAAAAAAAAAYTGOBOGY4C4MJYGEXDMMB2GU2DQMYSAAAAAAAAAAADCMZYFY3DQLRRHAYS4OBWHI2TIOBTCIAAAAAAAAAAAMJTHAXDMOBOGE4DCLRYG45DKNBYGMJQAAAAAAAAAABRGM4C4NRYFYYTQMJOGE3DQORVGQ4DGEYAAAAAAAAAAAYTGOBOGY4C4MJYGEXDCNZWHI2TIOBTCMAAAAAAAAAAAMJTHAXDMOBOGE4DCLRRG44TUNJUHAZRGAAAAAAAAAAAGEZTQLRWHAXDCOBRFYYTQMB2GU2DQMYTAAAAAAAAAAADCMZYFY3DQLRRHAYS4MJYGI5DKNBYGMJQAAAAAAAAAABRGM4C4NRYFYYTQMJOGI2DEORVGQ4DGEYAAAAAAAAAAAYTGOBOGY4C4MJYGEXDENBTHI2TIOBTCMAAAAAAAAAAAMJTHAXDMOBOGE4DCLRSGQ4TUNJUHAZREAAAAAAAAAAAGEZTQLRWHAXDCOBZFYYTIORVGQ4DGEQAAAAAAAAAAAYTGOBOGY4C4MJYHEXDCNJ2GU2DQMYSAAAAAAAAAAADCMZYFY3DQLRRHA4S4MJXHI2TIOBTCIAAAAAAAAAAAMJTHAXDMOBOGE4DSLRRHA5DKNBYGMJAAAAAAAAAAABRGM4C4NRYFYYTQOJOGE4TUNJUHAZREAAAAAAAAAAAGEZTQLRWHAXDCOBZFYZTCORVGQ4DGEQAAAAAAAAAAAYTGOBOGY4C4MJYHEXDGNB2GU2DQMYSAAAAAAAAAAADCMZYFY3DQLRRHA4S4MZWHI2TIOBTCIAAAAAAAAAAAMJTHAXDMOBOGE4DSLRTHA5DKNBYGMJAAAAAAAAAAABRGM4C4NRYFYYTQOJOGM4TUNJUHAZRCAAAAAAAAAAAGQ3C4MJQGEXDKLRRG44TUNJUHAZQC2YVAAAAAAAAAEDQAAAAAAAAAADBNRYGQYK7GIAFQXLAN3FR2BBK7UHAAOLMKFMW3BJBUV56OQEWWTVFMAW6GHV36Y4YHIAAAAAAAAABQAAAAAAAAAAAK4EPBDVXQZHYXWHJVIT4V3QAWOIRXH5YOVJHSOQBAAAAAAAAAAABKAAAAAAAAAAAMFYHA4ZPN52GQZLSKBZG6Z3SMFWW4YLNMXIYRFMERF3GPXIMLEUUNSMI52OE6TXB7B6KFFJERZK6VKS66S6QTGB2AAAAAAAAAAASAAAAAAAAAAAANDZOKQGWS7GNLJ4HTVNMATREDPGN4J7GOWKOJB24KVTJEN2GNJHBQAAAAAAAAAAAMBJ4AFZCH7MS5YLFIWQF3UJC7MMJ34ENEY35VJQAAUAAAAAAAAAAAAAAAAAACAAAAABAAAAAAMAAAAAEAAAAAAA'\n",
    "\n",
    "myApp.decode_ipc_msg(grantedAuth,None)\n",
    "\n",
    "grantedAuthPointer = myApp.queue.get()\n",
    "\n",
    "myApp.app_registered(b'otherProgramname',grantedAuthPointer[0],None)\n",
    "\n",
    "appPointer = myApp.queue.get()\n",
    "\n",
    "\n",
    "with open('myNewMutableData_as_bytes','rb') as f:\n",
    "    mutableBytes = f.read()\n",
    "\n",
    "ffiMut = safenet.safe_utils.getffiMutable(mutableBytes,myApp.ffi_app)"
   ]
  },
  {
   "cell_type": "code",
   "execution_count": 2,
   "metadata": {},
   "outputs": [],
   "source": [
    "@myApp.ffi_app.callback(\"void(void* , FfiResult*, MDataKey*, uint64_t)\")\n",
    "def result_mdata_list_keys(user_data, result, key, size):\n",
    "    #print('results')\n",
    "    #print('error code: ')\n",
    "    #print(result.error_code)\n",
    "    if result.error_code != 0:\n",
    "        print(myApp.ffi_app.string(result.description))\n",
    "    #print(key.val_len)\n",
    "    #print(size)\n",
    "    if size>0:\n",
    "        #print(key.val_len)\n",
    "        print(myApp.ffi_app.string(key.key))\n",
    "    #returnDict = ffi.from_handle(user_data)\n",
    "    #returnDict['myMdata']=mdataInfo"
   ]
  },
  {
   "cell_type": "code",
   "execution_count": 4,
   "metadata": {},
   "outputs": [],
   "source": [
    "@myApp.ffi_app.callback(\"void(void* , FfiResult*, MDataValue*, uint64_t)\")\n",
    "def result_mdata_list_values(user_data, result, value, size):\n",
    "    #print('results')\n",
    "    #print('error code: ')\n",
    "    #print(result.error_code)\n",
    "    if result.error_code != 0:\n",
    "        print(myApp.ffi_app.string(result.description))\n",
    "    #print(key.val_len)\n",
    "    #print(size)\n",
    "    if size>0:\n",
    "        #print(value.content_len)\n",
    "        print(myApp.ffi_app.string(value.content))\n",
    "    #returnDict = ffi.from_handle(user_data)\n",
    "    #returnDict['myMdata']=mdataInfo"
   ]
  },
  {
   "cell_type": "code",
   "execution_count": 5,
   "metadata": {},
   "outputs": [],
   "source": [
    "myApp.lib.safe_app.mdata_list_keys(appPointer,ffiMut,myApp.ffi_app.NULL,result_mdata_list_keys)"
   ]
  },
  {
   "cell_type": "code",
   "execution_count": 6,
   "metadata": {},
   "outputs": [],
   "source": [
    "myApp.lib.safe_app.mdata_list_values(appPointer,ffiMut,myApp.ffi_app.NULL,result_mdata_list_values)"
   ]
  },
  {
   "cell_type": "code",
   "execution_count": 6,
   "metadata": {},
   "outputs": [],
   "source": []
  },
  {
   "cell_type": "code",
   "execution_count": 7,
   "metadata": {},
   "outputs": [],
   "source": [
    "myMutable = safenet.MutableData(mutableBytes)"
   ]
  },
  {
   "cell_type": "code",
   "execution_count": 8,
   "metadata": {},
   "outputs": [
    {
     "name": "stdout",
     "output_type": "stream",
     "text": [
      "<safenet.mutabledata.MutableData object at 0x0000026207A88E48>\n<cffi.api.FFI object at 0x0000026207903B70>\n<bound method FFI.callback of <cffi.api.FFI object at 0x0000026207903B70>>\n[21:41:02.339] pyS.ffi_out:Thread-10 (  safe_app_defs.py: 494) [ WARNING] i even called the lib without errors                            \n"
     ]
    }
   ],
   "source": [
    "myMutable.mdata_list_values(appPointer,ffiMut,myApp.ffi_app.NULL)"
   ]
  },
  {
   "cell_type": "code",
   "execution_count": 10,
   "metadata": {},
   "outputs": [
    {
     "name": "stdout",
     "output_type": "stream",
     "text": [
      "<safenet.mutabledata.MutableData object at 0x0000026207A81278>\n<cffi.api.FFI object at 0x0000026207903B70>\n<bound method FFI.callback of <cffi.api.FFI object at 0x0000026207903B70>>\n[21:43:31.875] pyS.ffi_out:Thread-11 (  safe_app_defs.py: 494) [ WARNING] i even called the lib without errors                            \n"
     ]
    }
   ],
   "source": [
    "myApp.mutableData.mdata_list_values(appPointer,ffiMut,myApp.ffi_app.NULL)"
   ]
  },
  {
   "cell_type": "code",
   "execution_count": 8,
   "metadata": {},
   "outputs": [],
   "source": []
  },
  {
   "cell_type": "code",
   "execution_count": 9,
   "metadata": {},
   "outputs": [],
   "source": []
  },
  {
   "cell_type": "code",
   "execution_count": 9,
   "metadata": {},
   "outputs": [
    {
     "name": "stdout",
     "output_type": "stream",
     "text": [
      "<safenet.mutabledata.MutableData object at 0x000001C0772B77F0>\n<cffi.api.FFI object at 0x000001C0772C3B38>\n<bound method FFI.callback of <cffi.api.FFI object at 0x000001C0772C3B38>>\n[21:06:06.976] pyS.ffi_out:Thread-11 (  safe_app_defs.py: 494) [ WARNING] i even called the lib without errors                            \n"
     ]
    }
   ],
   "source": [
    "myMutable.mdata_list_values(appPointer,ffiMut,myApp.ffi_app.NULL,result_mdata_list_values)"
   ]
  },
  {
   "cell_type": "code",
   "execution_count": 11,
   "metadata": {},
   "outputs": [
    {
     "name": "stdout",
     "output_type": "stream",
     "text": [
      "<safenet.mutabledata.MutableData object at 0x0000026207A81278>\n<cffi.api.FFI object at 0x0000026207903B70>\n<bound method FFI.callback of <cffi.api.FFI object at 0x0000026207903B70>>\n[21:43:52.039] pyS.ffi_out:Thread-12 (  safe_app_defs.py: 494) [ WARNING] i even called the lib without errors                            \n"
     ]
    }
   ],
   "source": [
    "myApp.mutableData.mdata_list_values(appPointer,ffiMut,myApp.ffi_app.NULL,myApp.ffi_app.callback)"
   ]
  },
  {
   "cell_type": "code",
   "execution_count": 13,
   "metadata": {},
   "outputs": [
    {
     "name": "stderr",
     "output_type": "stream",
     "text": [
      "Exception in thread Thread-14:\nTraceback (most recent call last):\n  File \"C:\\Anaconda3\\lib\\threading.py\", line 916, in _bootstrap_inner\n    self.run()\n  File \"C:\\Anaconda3\\lib\\threading.py\", line 864, in run\n    self._target(*self._args, **self._kwargs)\nTypeError: _mdata_list_values() takes from 3 to 4 positional arguments but 5 were given\n\n"
     ]
    }
   ],
   "source": [
    "myApp.mutableData.mdata_list_values(appPointer,ffiMut,myApp.ffi_app.NULL,myApp.ffi_app.callback,result_mdata_list_values)"
   ]
  },
  {
   "cell_type": "code",
   "execution_count": null,
   "metadata": {},
   "outputs": [],
   "source": []
  }
 ],
 "metadata": {
  "kernelspec": {
   "display_name": "Python 3",
   "language": "python",
   "name": "python3"
  },
  "language_info": {
   "codemirror_mode": {
    "name": "ipython",
    "version": 3
   },
   "file_extension": ".py",
   "mimetype": "text/x-python",
   "name": "python",
   "nbconvert_exporter": "python",
   "pygments_lexer": "ipython3",
   "version": "3.6.7"
  }
 },
 "nbformat": 4,
 "nbformat_minor": 2
}
