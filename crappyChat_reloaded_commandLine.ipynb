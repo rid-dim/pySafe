{
 "cells": [
  {
   "cell_type": "code",
   "execution_count": 1,
   "metadata": {},
   "outputs": [
    {
     "name": "stdout",
     "output_type": "stream",
     "text": [
      "SAFE python-rust interface generated, bound and available\n"
     ]
    }
   ],
   "source": [
    "import safenet\n",
    "safenet.setup_logger(file_level=safenet.log_util.WARNING)\n",
    "myApp = safenet.App()\n",
    "myAuth_,addData=safenet.safe_utils.AuthReq(myApp.ffi_app.NULL,0,0,id=b'crappy_chat_reloaded',scope=b'noScope'\n",
    "                       ,name=b'i_love_it',vendor=b'no_vendor',app_container=True,ffi=myApp.ffi_app)"
   ]
  },
  {
   "cell_type": "code",
   "execution_count": 2,
   "metadata": {},
   "outputs": [],
   "source": [
    "grantedAuth='bAEAAAAD62UZNEAAAAAAAAAAAAAQAAAAAAAAAAACFM4G76PMYZS2KOPD3YEWR43VSNJBRGFGEDNHR3T3RC3Q72NOCTIQAAAAAAAAAAABR3MK54Q7UYXBG6N6SAVPDMEM5WYXV3ANLM7RALFLHQVAOTLM5KEQAAAAAAAAAAABJU6XLSJULM44QZ5XMMFJVT33AVG4RQU3VRU7MGRMEYYXLTA4FHBAAAAAAAAAAAAG5NL5ZKYC42NT6LFGXJXIOUOOKSHSXKZI6EFMJPWFQHZZKWKDE24U2PLVZE2FWOOIM63WGCU2Z55QKTOIYKN2Y2PWDIWCMMLVZQOCTQIAAAAAAAAAAAAPYH4S2EZH7ZEMJVRS3RXNNOD3H2BSOY6OZ5F7P7FDFSWUDUHARCIAAAAAAAAAAACAAIT6E234RSHCPS5XAT25JJY52RTOJRK7YCBXFENUJGOAEIY2ZWGIAAAAAAAAAAAIAAAAAAAAAAABRG44C4NRSFY3TMLRYHI2TIOBTCMAAAAAAAAAAAMJTHAXDMOBOGE4DKLRSGE4DUNJUHAZREAAAAAAAAAAAGEZTQLRWHAXDCOBRFY2TOORVGQ4DGEQAAAAAAAAAAAYTGOBOGY4C4MJYGEXDMMB2GU2DQMYSAAAAAAAAAAADCMZYFY3DQLRRHAYS4OBWHI2TIOBTCIAAAAAAAAAAAMJTHAXDMOBOGE4DCLRYG45DKNBYGMJQAAAAAAAAAABRGM4C4NRYFYYTQMJOGE3DQORVGQ4DGEYAAAAAAAAAAAYTGOBOGY4C4MJYGEXDCNZWHI2TIOBTCMAAAAAAAAAAAMJTHAXDMOBOGE4DCLRRG44TUNJUHAZRGAAAAAAAAAAAGEZTQLRWHAXDCOBRFYYTQMB2GU2DQMYTAAAAAAAAAAADCMZYFY3DQLRRHAYS4MJYGI5DKNBYGMJQAAAAAAAAAABRGM4C4NRYFYYTQMJOGI2DEORVGQ4DGEYAAAAAAAAAAAYTGOBOGY4C4MJYGEXDENBTHI2TIOBTCMAAAAAAAAAAAMJTHAXDMOBOGE4DCLRSGQ4TUNJUHAZREAAAAAAAAAAAGEZTQLRWHAXDCOBZFYYTIORVGQ4DGEQAAAAAAAAAAAYTGOBOGY4C4MJYHEXDCNJ2GU2DQMYSAAAAAAAAAAADCMZYFY3DQLRRHA4S4MJXHI2TIOBTCIAAAAAAAAAAAMJTHAXDMOBOGE4DSLRRHA5DKNBYGMJAAAAAAAAAAABRGM4C4NRYFYYTQOJOGE4TUNJUHAZREAAAAAAAAAAAGEZTQLRWHAXDCOBZFYZTCORVGQ4DGEQAAAAAAAAAAAYTGOBOGY4C4MJYHEXDGNB2GU2DQMYSAAAAAAAAAAADCMZYFY3DQLRRHA4S4MZWHI2TIOBTCIAAAAAAAAAAAMJTHAXDMOBOGE4DSLRTHA5DKNBYGMJAAAAAAAAAAABRGM4C4NRYFYYTQOJOGM4TUNJUHAZRCAAAAAAAAAAAGQ3C4MJQGEXDKLRRG44TUNJUHAZQC2YVAAAAAAAAAEDQAAAAAAAAAADBNRYGQYK7GIAPAHOENG5THQBVGSK3554IYIF3MAONRIPDJN4ZICM5OWGJDOPMONMYHIAAAAAAAAABQAAAAAAAAAAAGGIDH6CXHLRIPMUGZJITFSNSQ5PCDSDQTOP36TQBAAAAAAAAAAABSAAAAAAAAAAAMFYHA4ZPMNZGC4DQPFPWG2DBORPXEZLMN5QWIZLELKPZZ3KT4VFYSUGS4GDV3PPOFZEXPBBW6PH7QG2CEBOFLVPHKRXJQOQAAAAAAAAAAEQAAAAAAAAAAAH23JQPFECHYMFI27NFONF2W4TGLYTQBKPFZB47Q6YUK6HCVLQ7Q4MAAAAAAAAAAAB6TYQR23ZWCQF2OBUF42SA32JZGUUAKX6AMH4POAAFAAAAAAAAAAAAAAAAAAAQAAAAAIAAAAADAAAAABAAAAAAA'"
   ]
  },
  {
   "cell_type": "code",
   "execution_count": 3,
   "metadata": {},
   "outputs": [],
   "source": [
    "myApp.setup_app(myAuth_,grantedAuth)"
   ]
  },
  {
   "cell_type": "code",
   "execution_count": 4,
   "metadata": {},
   "outputs": [],
   "source": [
    "myMutable = myApp.mData()"
   ]
  },
  {
   "cell_type": "code",
   "execution_count": 5,
   "metadata": {},
   "outputs": [],
   "source": [
    "mutableBytes = b'\\x97Y\\x85\\x9b\\xf9\\x07U\\xeb-\\x8a$k|\\x02*qR\\x01\\x16\\xd5~\\xfde\\x9f\\x1cd\\x9f\\xb8\\xa5\\x98\\xf0^\\t\\x03\\x00\\x00\\x00\\x00\\x00\\x00\\x00\\x00\\x00\\x00\\x00\\x00\\x00\\x00\\x00\\x00\\x00\\x00\\x00\\x00\\x00\\x00\\x00\\x00\\x00\\x00\\x00\\x00\\x00\\x00\\x00\\x00\\x00\\x00\\x00\\x00\\x00\\x00\\x00\\x00\\x00\\x00\\x00\\x00\\x00\\x00\\x00\\x00\\x00\\x00\\x00\\x00\\x00\\x00\\x00\\x00\\x00\\x00\\x00\\x00\\x00\\x00\\x00\\x00\\x00\\x00\\x00\\x00\\x00\\x00\\x00\\x00\\x00\\x00\\x00\\x00\\x00\\x00\\x00\\x00\\x00\\x00\\x00\\x00\\x00\\x00\\x00\\x00\\x00\\x00\\x00\\x00\\x00\\x00\\x00\\x00\\x00\\x00\\x00\\x00\\x00\\x00\\x00\\x00\\x00\\x00\\x00\\x00\\x00\\x00\\x00\\x00\\x00\\x00\\x00\\x00\\x00\\x00\\x00\\x00/\\xe3G\\x7f\\x00\\x00'"
   ]
  },
  {
   "cell_type": "code",
   "execution_count": 6,
   "metadata": {},
   "outputs": [],
   "source": [
    "infoData= safenet.safe_utils.getffiMutable(mutableBytes,myMutable.ffi_app)"
   ]
  },
  {
   "cell_type": "code",
   "execution_count": null,
   "metadata": {},
   "outputs": [],
   "source": []
  },
  {
   "cell_type": "code",
   "execution_count": 22,
   "metadata": {},
   "outputs": [
    {
     "name": "stdout",
     "output_type": "stream",
     "text": [
      "choose a username: \n"
     ]
    }
   ],
   "source": [
    "userName = input('choose a username: ')\n",
    "if userName == '':\n",
    "    userName = 'anon'"
   ]
  },
  {
   "cell_type": "code",
   "execution_count": 7,
   "metadata": {},
   "outputs": [],
   "source": [
    "def getNewEntries(lastState,newState):\n",
    "    newEntries = {}\n",
    "    for additional in [item for item in newState if item not in lastState]:\n",
    "        newEntries[additional]=newState[additional]\n",
    "    return newEntries, newState"
   ]
  },
  {
   "cell_type": "code",
   "execution_count": 8,
   "metadata": {},
   "outputs": [],
   "source": [
    "lastState={}"
   ]
  },
  {
   "cell_type": "code",
   "execution_count": 30,
   "metadata": {},
   "outputs": [],
   "source": [
    "def printStuff(lastState):\n",
    "    for item in lastState:\n",
    "        print(f'{item.decode()}: {lastState[item].decode()}')\n",
    "    "
   ]
  },
  {
   "cell_type": "code",
   "execution_count": 25,
   "metadata": {},
   "outputs": [],
   "source": [
    "import datetime"
   ]
  },
  {
   "cell_type": "code",
   "execution_count": 37,
   "metadata": {},
   "outputs": [],
   "source": [
    "newMessage=None"
   ]
  },
  {
   "cell_type": "code",
   "execution_count": 38,
   "metadata": {},
   "outputs": [
    {
     "name": "stdout",
     "output_type": "stream",
     "text": [
      "2019-04-15 - 19:03:42 anon: haha\n",
      "2019-04-15 - 19:03:49 anon: oh nice!\n",
      "2019-04-15 - 19:05:32 anon: hmmmm\n",
      "2019-04-15 - 19:05:46 anon: i think something went wrong\n",
      "2019-04-15 - 19:10:36 anon: this might be something\n",
      "2019-04-15 - 19:20:37 rid: hmmm\n",
      "2019-04-15 - 19:21:06 rid: damn\n",
      "2019-04-15 - 19:22:22 rid: this fails from time to time\n",
      "2019-04-15 - 19:32:52 anon: now\n",
      "2019-04-15 - 19:32:59 anon2: i guess\n",
      "2019-04-15 - 19:33:04 anon2: it can become interesting\n",
      "2019-04-15 - 19:33:11 rid: finally :D\n",
      "2019-04-15 - 19:33:12 rid: it works\n",
      "2019-04-15 - 19:33:15 rid: without crashes\n",
      "2019-04-15 - 19:33:16 rid: hehe\n",
      "2019-04-15 - 19:33:17 rid: nice\n",
      "2019-04-15 - 19:33:20 rid: didn't expect that\n",
      "2019-04-15 - 19:33:21 rid: :D\n",
      "2019-04-15 - 19:33:37 rid: ohoh - this will destroy my put account\n",
      "2019-04-15 - 19:33:46 rid: one\n",
      "2019-04-15 - 19:33:55 rid: ha!\n",
      "2019-04-15 - 19:33:58 rid: one put per message\n",
      "2019-04-15 - 19:34:09 rid: what happens if i reach the bottom\n",
      "2019-04-15 - 19:34:11 rid: of the window?\n",
      "2019-04-15 - 19:34:18 rid: hmm\n",
      "2019-04-15 - 19:34:22 rid: okay\n",
      "2019-04-15 - 19:34:26 rid: thats fair\n",
      "2019-04-15 - 19:40:52 anon: okay\n",
      "2019-04-15 - 19:40:56 anon: ha\n",
      "2019-04-15 - 19:41:07 anon: that's okay for me\n",
      "2019-04-15 - 19:41:15 anon: i think\n",
      "2019-04-15 - 19:41:20 anon: it scrolls :D\n",
      "2019-04-15 - 19:42:18 nobody: i love it\n",
      "2019-04-15 - 19:42:23 nobody: huh\n",
      "2019-04-15 - 19:42:39 nobody: it doesn't scroll anymore!\n",
      "2019-04-15 - 19:42:44 nobody: nooooo\n",
      "2019-04-15 - 19:59:31 anon: hmmm\n",
      "2019-04-15 - 19:59:34 anon: okay\n",
      "2019-04-15 - 19:59:40 anon: the scrolling works sometimes\n",
      "2019-04-15 - 19:59:41 anon: :D\n",
      "2019-04-15 - 20:11:09 anon: hmm\n",
      "2019-04-15 - 20:45:23 anon: uuuuuh\n",
      "2019-04-15 - 20:45:31 anon: i think it worked\n",
      "2019-04-15 - 20:45:37 anon: :D\n",
      "2019-04-15 - 20:51:50 anon: hmmm\n",
      "2019-04-15 - 20:52:09 anon: okay\n",
      "2019-04-15 - 21:09:00 anon: aha\n",
      "2019-04-15 - 21:12:59 anon: hmm\n",
      "2019-04-15 - 21:13:19 anon: shit\n",
      "2019-04-18 - 17:05:09 anon: hmm\n",
      "2019-04-18 - 17:05:17 anon: Oo\n",
      "2019-04-18 - 17:07:15 anon: well\n",
      "2019-04-18 - 17:07:20 anon: since this seems to work now Oo\n",
      "2019-04-18 - 17:08:23 anon: unbelievable\n",
      "2019-04-18 - 17:08:36 yeah: looks like it\n",
      "2019-04-18 - 17:08:41 yeah: hmhmm\n",
      "2019-04-18 - 17:08:54 yeah: okay - once you scroll down it is always visible\n",
      "2019-04-18 - 17:08:55 yeah: nice\n",
      "2019-04-27 - 13:31:14 anon: hmm\n",
      "2019-04-27 - 13:31:22 anon: okay\n",
      "2019-04-27 - 13:31:29 anon: this is not ideal but can work\n",
      "2019-04-27 - 13:32:05 rid: hey there\n",
      "2019-04-27 - 13:32:14 rid: haha\n",
      "2019-04-27 - 13:33:34 anon: exit\n",
      "2019-04-27 - 13:41:40 anon: exit\n",
      "2019-04-27 - 13:42:16 anon: no\n",
      "2019-04-27 - 13:42:19 anon: exit\n",
      "2019-04-27 - 13:48:08 anon: hmm\n",
      "2019-04-27 - 13:48:10 anon: exit\n",
      "2019-04-27 - 13:50:40 anon: exit\n",
      "2019-04-27 - 13:50:51 anon: exit\n",
      "2019-04-27 - 13:54:09 me: exit\n",
      "AWESOME: THIS WORKS\n",
      "HELLO: SAL MY FRIEND!!!\n",
      "additionalEntry: nope2\n",
      "baduff: another entry\n",
      "firstkey: this is awesome\n",
      "i love safe: and this is just the start\n",
      "secondKey: and soon it should be\n",
      "thirdKey: even easier to use safe with python\n",
      "this wasnt here: before\n",
      "thisWasUploaded at: 2019-04-15 - 17:18:44 UTC\n",
      "[your message (enter exit to leave)]: exit\n"
     ]
    }
   ],
   "source": [
    "while newMessage != 'exit':\n",
    "    additionalEntries, lastState = getNewEntries(lastState,myMutable.getCurrentState(infoData))\n",
    "    printStuff(lastState)\n",
    "    newMessage = input('[your message (enter exit to leave)]: ')\n",
    "    \n",
    "    if newMessage and newMessage.lower() != 'exit':\n",
    "        now = datetime.datetime.utcnow().strftime('%Y-%m-%d - %H:%M:%S')\n",
    "        myName = userName\n",
    "        text = newMessage\n",
    "        timeUser = f'{now} {myName}'\n",
    "        additionalEntries={timeUser:text}\n",
    "        myMutable.insertEntries(infoData,additionalEntries)"
   ]
  },
  {
   "cell_type": "code",
   "execution_count": null,
   "metadata": {},
   "outputs": [],
   "source": []
  }
 ],
 "metadata": {
  "kernelspec": {
   "display_name": "Python 3",
   "language": "python",
   "name": "python3"
  },
  "language_info": {
   "codemirror_mode": {
    "name": "ipython",
    "version": 3
   },
   "file_extension": ".py",
   "mimetype": "text/x-python",
   "name": "python",
   "nbconvert_exporter": "python",
   "pygments_lexer": "ipython3",
   "version": "3.6.7"
  }
 },
 "nbformat": 4,
 "nbformat_minor": 2
}
