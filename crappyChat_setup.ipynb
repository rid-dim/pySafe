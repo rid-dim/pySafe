{
 "cells": [
  {
   "cell_type": "code",
   "execution_count": 13,
   "metadata": {},
   "outputs": [],
   "source": [
    "import safenet\n",
    "safenet.setup_logger(file_level=safenet.log_util.WARNING)\n",
    "myApp = safenet.App()\n",
    "myAuth_,addData=safenet.safe_utils.AuthReq(myApp.ffi_app.NULL,0,0,id=b'crappy_chat_reloaded',scope=b'noScope'\n",
    "                       ,name=b'i_love_it',vendor=b'no_vendor',app_container=True,ffi=myApp.ffi_app)"
   ]
  },
  {
   "cell_type": "code",
   "execution_count": 14,
   "metadata": {},
   "outputs": [],
   "source": [
    "encodedAuth = myApp.encode_authentication(myAuth_)"
   ]
  },
  {
   "cell_type": "code",
   "execution_count": 15,
   "metadata": {},
   "outputs": [
    {
     "data": {
      "text/plain": [
       "b'bAAAAAAD62UZNEAAAAAABIAAAAAAAAAAAMNZGC4DQPFPWG2DBORPXEZLMN5QWIZLEAEDQAAAAAAAAAADON5JWG33QMUEQAAAAAAAAAADJL5WG65TFL5UXICIAAAAAAAAAABXG6X3WMVXGI33SAEAAAAAAAAAAAAAA'"
      ]
     },
     "execution_count": 15,
     "metadata": {},
     "output_type": "execute_result"
    }
   ],
   "source": [
    "encodedAuth"
   ]
  },
  {
   "cell_type": "code",
   "execution_count": 16,
   "metadata": {},
   "outputs": [],
   "source": [
    "grantedAuth = myApp.sysUri.quickSetup(myAuth_,encodedAuth)"
   ]
  },
  {
   "cell_type": "code",
   "execution_count": 17,
   "metadata": {},
   "outputs": [
    {
     "data": {
      "text/plain": [
       "'bAEAAAAD62UZNEAAAAAAAAAAAAAQAAAAAAAAAAACFM4G76PMYZS2KOPD3YEWR43VSNJBRGFGEDNHR3T3RC3Q72NOCTIQAAAAAAAAAAABR3MK54Q7UYXBG6N6SAVPDMEM5WYXV3ANLM7RALFLHQVAOTLM5KEQAAAAAAAAAAABJU6XLSJULM44QZ5XMMFJVT33AVG4RQU3VRU7MGRMEYYXLTA4FHBAAAAAAAAAAAAG5NL5ZKYC42NT6LFGXJXIOUOOKSHSXKZI6EFMJPWFQHZZKWKDE24U2PLVZE2FWOOIM63WGCU2Z55QKTOIYKN2Y2PWDIWCMMLVZQOCTQIAAAAAAAAAAAAPYH4S2EZH7ZEMJVRS3RXNNOD3H2BSOY6OZ5F7P7FDFSWUDUHARCIAAAAAAAAAAACAAIT6E234RSHCPS5XAT25JJY52RTOJRK7YCBXFENUJGOAEIY2ZWGIAAAAAAAAAAAIAAAAAAAAAAABRG44C4NRSFY3TMLRYHI2TIOBTCMAAAAAAAAAAAMJTHAXDMOBOGE4DKLRSGE4DUNJUHAZREAAAAAAAAAAAGEZTQLRWHAXDCOBRFY2TOORVGQ4DGEQAAAAAAAAAAAYTGOBOGY4C4MJYGEXDMMB2GU2DQMYSAAAAAAAAAAADCMZYFY3DQLRRHAYS4OBWHI2TIOBTCIAAAAAAAAAAAMJTHAXDMOBOGE4DCLRYG45DKNBYGMJQAAAAAAAAAABRGM4C4NRYFYYTQMJOGE3DQORVGQ4DGEYAAAAAAAAAAAYTGOBOGY4C4MJYGEXDCNZWHI2TIOBTCMAAAAAAAAAAAMJTHAXDMOBOGE4DCLRRG44TUNJUHAZRGAAAAAAAAAAAGEZTQLRWHAXDCOBRFYYTQMB2GU2DQMYTAAAAAAAAAAADCMZYFY3DQLRRHAYS4MJYGI5DKNBYGMJQAAAAAAAAAABRGM4C4NRYFYYTQMJOGI2DEORVGQ4DGEYAAAAAAAAAAAYTGOBOGY4C4MJYGEXDENBTHI2TIOBTCMAAAAAAAAAAAMJTHAXDMOBOGE4DCLRSGQ4TUNJUHAZREAAAAAAAAAAAGEZTQLRWHAXDCOBZFYYTIORVGQ4DGEQAAAAAAAAAAAYTGOBOGY4C4MJYHEXDCNJ2GU2DQMYSAAAAAAAAAAADCMZYFY3DQLRRHA4S4MJXHI2TIOBTCIAAAAAAAAAAAMJTHAXDMOBOGE4DSLRRHA5DKNBYGMJAAAAAAAAAAABRGM4C4NRYFYYTQOJOGE4TUNJUHAZREAAAAAAAAAAAGEZTQLRWHAXDCOBZFYZTCORVGQ4DGEQAAAAAAAAAAAYTGOBOGY4C4MJYHEXDGNB2GU2DQMYSAAAAAAAAAAADCMZYFY3DQLRRHA4S4MZWHI2TIOBTCIAAAAAAAAAAAMJTHAXDMOBOGE4DSLRTHA5DKNBYGMJAAAAAAAAAAABRGM4C4NRYFYYTQOJOGM4TUNJUHAZRCAAAAAAAAAAAGQ3C4MJQGEXDKLRRG44TUNJUHAZQC2YVAAAAAAAAAEDQAAAAAAAAAADBNRYGQYK7GIAPAHOENG5THQBVGSK3554IYIF3MAONRIPDJN4ZICM5OWGJDOPMONMYHIAAAAAAAAABQAAAAAAAAAAAGGIDH6CXHLRIPMUGZJITFSNSQ5PCDSDQTOP36TQBAAAAAAAAAAABSAAAAAAAAAAAMFYHA4ZPMNZGC4DQPFPWG2DBORPXEZLMN5QWIZLELKPZZ3KT4VFYSUGS4GDV3PPOFZEXPBBW6PH7QG2CEBOFLVPHKRXJQOQAAAAAAAAAAEQAAAAAAAAAAAH23JQPFECHYMFI27NFONF2W4TGLYTQBKPFZB47Q6YUK6HCVLQ7Q4MAAAAAAAAAAAB6TYQR23ZWCQF2OBUF42SA32JZGUUAKX6AMH4POAAFAAAAAAAAAAAAAAAAAAAQAAAAAIAAAAADAAAAABAAAAAAA'"
      ]
     },
     "execution_count": 17,
     "metadata": {},
     "output_type": "execute_result"
    }
   ],
   "source": [
    "grantedAuth"
   ]
  },
  {
   "cell_type": "code",
   "execution_count": 4,
   "metadata": {},
   "outputs": [],
   "source": [
    "grantedAuth='bAEAAAADIADW4EAAAAAAAAAAAAAQAAAAAAAAAAAEFNJ53ABPX5QW524YYAMEN7T4MJJVIYH656RYZ4FCSZ4TUT7DX3AQAAAAAAAAAAADZO24ITUIIFUWNIUPYODCATWPRBZIBHLD4B6DGFUJDNASIIFYX5MQAAAAAAAAAAAG7B6WQXKW3UPQET62ZWDRY3U7NEYKRWBPQHLYJHTOOYIPPGOWKFFAAAAAAAAAAAACGBOVXSSUKP2Z7YMG5JJDC7BNTUU3YD4SBOBYN3CWRJXGCXLOSFTPQ7LILVLN2HYCJ7NM3BY4N2PWSMFI3AXYDV4ETZXHMEHXTHLFCSIAAAAAAAAAAAAJDOR7QCDWE2VXANINUIE4NYFTIAT66JFQN7B7ALHOV3QYVIYSGQIAAAAAAAAAAABK6S5AF4FRXH4AOBERKM65IJZZNGEILVD3GSDMQBIV4GP2XE5JHQGIAAAAAAAAAAAIAAAAAAAAAAABRG44C4NRSFY3TMLRYHI2TIOBTCMAAAAAAAAAAAMJTHAXDMOBOGE4DKLRSGE4DUNJUHAZREAAAAAAAAAAAGEZTQLRWHAXDCOBRFY2TOORVGQ4DGEQAAAAAAAAAAAYTGOBOGY4C4MJYGEXDMMB2GU2DQMYSAAAAAAAAAAADCMZYFY3DQLRRHAYS4OBWHI2TIOBTCIAAAAAAAAAAAMJTHAXDMOBOGE4DCLRYG45DKNBYGMJQAAAAAAAAAABRGM4C4NRYFYYTQMJOGE3DQORVGQ4DGEYAAAAAAAAAAAYTGOBOGY4C4MJYGEXDCNZWHI2TIOBTCMAAAAAAAAAAAMJTHAXDMOBOGE4DCLRRG44TUNJUHAZRGAAAAAAAAAAAGEZTQLRWHAXDCOBRFYYTQMB2GU2DQMYTAAAAAAAAAAADCMZYFY3DQLRRHAYS4MJYGI5DKNBYGMJQAAAAAAAAAABRGM4C4NRYFYYTQMJOGI2DEORVGQ4DGEYAAAAAAAAAAAYTGOBOGY4C4MJYGEXDENBTHI2TIOBTCMAAAAAAAAAAAMJTHAXDMOBOGE4DCLRSGQ4TUNJUHAZREAAAAAAAAAAAGEZTQLRWHAXDCOBZFYYTIORVGQ4DGEQAAAAAAAAAAAYTGOBOGY4C4MJYHEXDCNJ2GU2DQMYSAAAAAAAAAAADCMZYFY3DQLRRHA4S4MJXHI2TIOBTCIAAAAAAAAAAAMJTHAXDMOBOGE4DSLRRHA5DKNBYGMJAAAAAAAAAAABRGM4C4NRYFYYTQOJOGE4TUNJUHAZREAAAAAAAAAAAGEZTQLRWHAXDCOBZFYZTCORVGQ4DGEQAAAAAAAAAAAYTGOBOGY4C4MJYHEXDGNB2GU2DQMYSAAAAAAAAAAADCMZYFY3DQLRRHA4S4MZWHI2TIOBTCIAAAAAAAAAAAMJTHAXDMOBOGE4DSLRTHA5DKNBYGMJAAAAAAAAAAABRGM4C4NRYFYYTQOJOGM4TUNJUHAZRCAAAAAAAAAAAGQ3C4MJQGEXDKLRRG44TUNJUHAZQC2YVAAAAAAAAAEDQAAAAAAAAAADBNRYGQYK7GIAOWVHBIXIX3YGQAZIQREUXG4475KAEQOJARMHK5Z3DWBIVRXPEAVMYHIAAAAAAAAABQAAAAAAAAAAAIDF2MO3P472PTSCK3IIOW43ZICJR4Q4P5ZR6UWABAAAAAAAAAAABIAAAAAAAAAAAMFYHA4ZPORSXG5CQOJXWO4TBNVHGC3LFO7DUGA44PHQPW2LQGIPOFH34XS3SO3V3X6S3LX7ETSBIRY3TCAHJQOQAAAAAAAAAAEQAAAAAAAAAAAEIJOL5UDCOQRO3N2G6CFLCDF4ACW3LH2ON27YBAOOC7G4YGV25S4MAAAAAAAAAAAGJ6FXG5Y7A2Z5GTAO7H5APZ2ALENSBY2J7T4QNKAAFAAAAAAAAAAAAAAAAAAAQAAAAAIAAAAADAAAAABAAAAAAA'"
   ]
  },
  {
   "cell_type": "code",
   "execution_count": 18,
   "metadata": {},
   "outputs": [],
   "source": [
    "myApp.setup_app(myAuth_,grantedAuth)"
   ]
  },
  {
   "cell_type": "code",
   "execution_count": 19,
   "metadata": {},
   "outputs": [],
   "source": [
    "signKey = myApp.get_pub_key_handle()"
   ]
  },
  {
   "cell_type": "code",
   "execution_count": 20,
   "metadata": {},
   "outputs": [
    {
     "data": {
      "text/plain": [
       "1"
      ]
     },
     "execution_count": 20,
     "metadata": {},
     "output_type": "execute_result"
    }
   ],
   "source": [
    "signKey"
   ]
  },
  {
   "cell_type": "markdown",
   "metadata": {},
   "source": [
    "---"
   ]
  },
  {
   "cell_type": "markdown",
   "metadata": {},
   "source": [
    "### now we have an app and can start doing stuff"
   ]
  },
  {
   "cell_type": "markdown",
   "metadata": {},
   "source": [
    "---"
   ]
  },
  {
   "cell_type": "markdown",
   "metadata": {},
   "source": [
    "### creating a mutable Object"
   ]
  },
  {
   "cell_type": "code",
   "execution_count": 21,
   "metadata": {},
   "outputs": [],
   "source": [
    "myMutable = myApp.mData()"
   ]
  },
  {
   "cell_type": "markdown",
   "metadata": {},
   "source": [
    "### define Entries and drop them onto Safe"
   ]
  },
  {
   "cell_type": "code",
   "execution_count": 22,
   "metadata": {},
   "outputs": [],
   "source": [
    "import datetime"
   ]
  },
  {
   "cell_type": "code",
   "execution_count": 23,
   "metadata": {},
   "outputs": [],
   "source": [
    "\n",
    "now = datetime.datetime.utcnow().strftime('%Y-%m-%d - %H:%M:%S')\n",
    "myName = 'Welcome to the SAFE Network'\n",
    "text = 'free speech and free knowledge to the world!'\n",
    "timeUser = f'{now} {myName}'\n",
    "entries={timeUser:text}"
   ]
  },
  {
   "cell_type": "markdown",
   "metadata": {},
   "source": [
    "entries={'firstkey':'this is awesome',\n",
    "         'secondKey':'and soon it should be',\n",
    "         'thirdKey':'even easier to use safe with python',\n",
    "         'i love safe':'and this is just the start',\n",
    "         'thisWasUploaded at':datetime.datetime.utcnow().strftime('%Y-%m-%d - %H:%M:%S UTC'),\n",
    "         'additionalEntry':input('enter your custom value here: ')}"
   ]
  },
  {
   "cell_type": "code",
   "execution_count": null,
   "metadata": {},
   "outputs": [],
   "source": []
  },
  {
   "cell_type": "code",
   "execution_count": 24,
   "metadata": {},
   "outputs": [],
   "source": [
    "infoData = myMutable.new_random_public(777,signKey,entries)"
   ]
  },
  {
   "cell_type": "code",
   "execution_count": null,
   "metadata": {},
   "outputs": [],
   "source": []
  },
  {
   "cell_type": "code",
   "execution_count": 25,
   "metadata": {
    "scrolled": true
   },
   "outputs": [
    {
     "name": "stdout",
     "output_type": "stream",
     "text": [
      "safe://f017016209759859bf90755eb2d8a246b7c022a71520116d57efd659f1c649fb8a598f05e:777\n"
     ]
    }
   ],
   "source": [
    "print(safenet.safe_utils.getXorAddresOfMutable(infoData,myMutable.ffi_app))"
   ]
  },
  {
   "cell_type": "code",
   "execution_count": null,
   "metadata": {},
   "outputs": [],
   "source": []
  },
  {
   "cell_type": "code",
   "execution_count": 12,
   "metadata": {},
   "outputs": [],
   "source": [
    "additionalEntries={'this wasnt here':'before'}"
   ]
  },
  {
   "cell_type": "code",
   "execution_count": 16,
   "metadata": {},
   "outputs": [],
   "source": [
    "additionalEntries={'baduff':'another entry'}"
   ]
  },
  {
   "cell_type": "code",
   "execution_count": 17,
   "metadata": {},
   "outputs": [],
   "source": [
    "myMutable.insertEntries(infoData,additionalEntries)"
   ]
  },
  {
   "cell_type": "code",
   "execution_count": null,
   "metadata": {},
   "outputs": [],
   "source": []
  },
  {
   "cell_type": "code",
   "execution_count": 24,
   "metadata": {},
   "outputs": [],
   "source": [
    "with open('testfile','wb') as f:\n",
    "    f.write(myMutable.ffi_app.buffer(infoData)[:])"
   ]
  },
  {
   "cell_type": "code",
   "execution_count": 8,
   "metadata": {},
   "outputs": [],
   "source": [
    "with open('testfile','rb') as f:\n",
    "    infoData= safenet.safe_utils.getffiMutable(f.read(),myMutable.ffi_app)"
   ]
  },
  {
   "cell_type": "code",
   "execution_count": 26,
   "metadata": {},
   "outputs": [
    {
     "data": {
      "text/plain": [
       "b'\\x97Y\\x85\\x9b\\xf9\\x07U\\xeb-\\x8a$k|\\x02*qR\\x01\\x16\\xd5~\\xfde\\x9f\\x1cd\\x9f\\xb8\\xa5\\x98\\xf0^\\t\\x03\\x00\\x00\\x00\\x00\\x00\\x00\\x00\\x00\\x00\\x00\\x00\\x00\\x00\\x00\\x00\\x00\\x00\\x00\\x00\\x00\\x00\\x00\\x00\\x00\\x00\\x00\\x00\\x00\\x00\\x00\\x00\\x00\\x00\\x00\\x00\\x00\\x00\\x00\\x00\\x00\\x00\\x00\\x00\\x00\\x00\\x00\\x00\\x00\\x00\\x00\\x00\\x00\\x00\\x00\\x00\\x00\\x00\\x00\\x00\\x00\\x00\\x00\\x00\\x00\\x00\\x00\\x00\\x00\\x00\\x00\\x00\\x00\\x00\\x00\\x00\\x00\\x00\\x00\\x00\\x00\\x00\\x00\\x00\\x00\\x00\\x00\\x00\\x00\\x00\\x00\\x00\\x00\\x00\\x00\\x00\\x00\\x00\\x00\\x00\\x00\\x00\\x00\\x00\\x00\\x00\\x00\\x00\\x00\\x00\\x00\\x00\\x00\\x00\\x00\\x00\\x00\\x00\\x00\\x00\\x00/\\xe3G\\x7f\\x00\\x00'"
      ]
     },
     "execution_count": 26,
     "metadata": {},
     "output_type": "execute_result"
    }
   ],
   "source": [
    "myMutable.ffi_app.buffer(infoData)[:]"
   ]
  },
  {
   "cell_type": "code",
   "execution_count": 12,
   "metadata": {},
   "outputs": [],
   "source": [
    "mutableBytes = b'H\\x8f\\x08x}\\xc5D]U\\xeeW\\x08\\xe0\\xb4\\xaau\\x94\\xd4\\x8a\\x0bz\\x06h\\xe3{}\\xd1\\x06\\x843\\x01P[t\\x00\\x00\\x00\\x00\\x00\\x00\\x00\\x00\\x00\\x00\\x00\\x00\\x00\\x00\\x00\\x00\\x00\\x00\\x00\\x00\\x00\\x00\\x00\\x00\\x00\\x00\\x00\\x00\\x00\\x00\\x00\\x00\\x00\\x00\\x00\\x00\\x00\\x00\\x00\\x00\\x00\\x00\\x00\\x00\\x00\\x00\\x00\\x00\\x00\\x00\\x00\\x00\\x00\\x00\\x00\\x00\\x00\\x00\\x00\\x00\\x00\\x00\\x00\\x00\\x00\\x00\\x00\\x00\\x00\\x00\\x00\\x00\\x00\\x00\\x00\\x00\\x00\\x00\\x00\\x00\\x00\\x00\\x00\\x00\\x00\\x00\\x00\\x00\\x00\\x00\\x00\\x00\\x00\\x00\\x00\\x00\\x00\\x00\\x00\\x00\\x00\\x00\\x00\\x00\\x00\\x00\\x00\\x00\\x00\\x00\\x00\\x00\\x00\\x00\\x00\\x00\\x00\\x00\\x00\\x007\\xdbNV\\x00\\x00'"
   ]
  },
  {
   "cell_type": "code",
   "execution_count": 10,
   "metadata": {},
   "outputs": [
    {
     "ename": "NameError",
     "evalue": "name 'mutableBytes' is not defined",
     "output_type": "error",
     "traceback": [
      "\u001b[0;31m---------------------------------------------------------------------------\u001b[0m",
      "\u001b[0;31mNameError\u001b[0m                                 Traceback (most recent call last)",
      "\u001b[0;32m<ipython-input-10-1bdf9e4a173e>\u001b[0m in \u001b[0;36m<module>\u001b[0;34m\u001b[0m\n\u001b[0;32m----> 1\u001b[0;31m \u001b[0minfoData\u001b[0m\u001b[0;34m=\u001b[0m \u001b[0msafenet\u001b[0m\u001b[0;34m.\u001b[0m\u001b[0msafe_utils\u001b[0m\u001b[0;34m.\u001b[0m\u001b[0mgetffiMutable\u001b[0m\u001b[0;34m(\u001b[0m\u001b[0mmutableBytes\u001b[0m\u001b[0;34m,\u001b[0m\u001b[0mmyMutable\u001b[0m\u001b[0;34m.\u001b[0m\u001b[0mffi_app\u001b[0m\u001b[0;34m)\u001b[0m\u001b[0;34m\u001b[0m\u001b[0;34m\u001b[0m\u001b[0m\n\u001b[0m",
      "\u001b[0;31mNameError\u001b[0m: name 'mutableBytes' is not defined"
     ]
    }
   ],
   "source": [
    "infoData= safenet.safe_utils.getffiMutable(mutableBytes,myMutable.ffi_app)"
   ]
  },
  {
   "cell_type": "code",
   "execution_count": null,
   "metadata": {},
   "outputs": [],
   "source": []
  },
  {
   "cell_type": "code",
   "execution_count": 9,
   "metadata": {},
   "outputs": [
    {
     "data": {
      "text/plain": [
       "<cdata 'MDataInfo *' owning 160 bytes>"
      ]
     },
     "execution_count": 9,
     "metadata": {},
     "output_type": "execute_result"
    }
   ],
   "source": [
    "infoData"
   ]
  },
  {
   "cell_type": "code",
   "execution_count": null,
   "metadata": {},
   "outputs": [],
   "source": []
  },
  {
   "cell_type": "code",
   "execution_count": 10,
   "metadata": {},
   "outputs": [],
   "source": [
    "def getNewEntries(lastState,newState):\n",
    "    newEntries = {}\n",
    "    for additional in [item for item in newState if item not in lastState]:\n",
    "        newEntries[additional]=newState[additional]\n",
    "    return newEntries, newState"
   ]
  },
  {
   "cell_type": "code",
   "execution_count": null,
   "metadata": {},
   "outputs": [],
   "source": []
  },
  {
   "cell_type": "markdown",
   "metadata": {},
   "source": [
    "lastState={}"
   ]
  },
  {
   "cell_type": "markdown",
   "metadata": {},
   "source": [
    "additionalEntries, lastState = getNewEntries(lastState,myMutable.getCurrentState(infoData))"
   ]
  },
  {
   "cell_type": "markdown",
   "metadata": {},
   "source": [
    "additionalEntries"
   ]
  },
  {
   "cell_type": "code",
   "execution_count": null,
   "metadata": {},
   "outputs": [],
   "source": []
  },
  {
   "cell_type": "code",
   "execution_count": null,
   "metadata": {},
   "outputs": [],
   "source": []
  },
  {
   "cell_type": "code",
   "execution_count": null,
   "metadata": {},
   "outputs": [],
   "source": []
  },
  {
   "cell_type": "code",
   "execution_count": null,
   "metadata": {},
   "outputs": [],
   "source": [
    "import queue\n",
    "import time\n",
    "from threading import Thread\n",
    "import datetime\n",
    "import sys\n",
    "from PyQt5.QtWidgets import (QWidget, QPushButton, QTextBrowser,QLineEdit,\n",
    "    QHBoxLayout, QVBoxLayout, QApplication)\n",
    "\n",
    "\n",
    "class Example(QWidget):\n",
    "    \n",
    "    def __init__(self):\n",
    "        super().__init__()\n",
    "        \n",
    "        self.lineedit1 = QLineEdit(\"anon\")\n",
    "        self.browser = QTextBrowser()\n",
    "        self.lineedit = QLineEdit(\"Type a message and press Enter\")\n",
    "        self.lineedit.selectAll()\n",
    "        self.setWindowTitle(\"crappychat_reloaded\")\n",
    "        vbox = QVBoxLayout()\n",
    "        vbox.addWidget(self.lineedit1)\n",
    "        vbox.addWidget(self.browser)\n",
    "        vbox.addWidget(self.lineedit)\n",
    "        self.setLayout(vbox)    \n",
    "        \n",
    "        self.setGeometry(300, 300, 900, 600) \n",
    "        self.show()\n",
    "        self.lineedit.setFocus()\n",
    "        self.lineedit.returnPressed.connect(self.updateUi)\n",
    "        \n",
    "        self.messageQueue = queue.Queue()\n",
    "        t = Thread(name='updateThread', target=self.updateBrowser)\n",
    "        t.start()\n",
    "        \n",
    "    def updateUi(self):\n",
    "        try:\n",
    "            now = datetime.datetime.utcnow().strftime('%Y-%m-%d - %H:%M:%S')\n",
    "            myName = self.lineedit1.text()\n",
    "            text = self.lineedit.text()\n",
    "            timeUser = f'{now} {myName}'\n",
    "            additionalEntries={timeUser:text}\n",
    "            self.messageQueue.put(additionalEntries)\n",
    "            \n",
    "            #self.browser.append(f\"<b>{timeUser}</b>: {text}\") \n",
    "            self.lineedit.clear()\n",
    "            \n",
    "        except:\n",
    "            self.browser.append(\"<font color=red>{0} is invalid!</font>\"\n",
    "                                .format(text)) \n",
    "        \n",
    "    def updateBrowser(self):\n",
    "        lastState={}\n",
    "        while True:\n",
    "            try:\n",
    "                if not self.messageQueue.empty():\n",
    "                    newEntries = self.messageQueue.get()\n",
    "                    myMutable.insertEntries(infoData,newEntries)\n",
    "                additionalEntries, lastState = getNewEntries(lastState,myMutable.getCurrentState(infoData))\n",
    "                for entry in additionalEntries:\n",
    "                    entry_string = entry.decode()\n",
    "                    value_string = additionalEntries[entry].decode()\n",
    "                    self.browser.append(f\"<b>{entry_string}</b>: {value_string}\")\n",
    "                    self.browser.ensureCursorVisible()\n",
    "            except:\n",
    "                pass\n",
    "            time.sleep(2)\n",
    "        \n",
    "        \n",
    "        \n",
    "if __name__ == '__main__':\n",
    "    \n",
    "    app = QApplication(sys.argv)\n",
    "    ex = Example()\n",
    "    sys.exit(app.exec_())"
   ]
  },
  {
   "cell_type": "code",
   "execution_count": null,
   "metadata": {},
   "outputs": [],
   "source": []
  },
  {
   "cell_type": "code",
   "execution_count": null,
   "metadata": {},
   "outputs": [],
   "source": []
  }
 ],
 "metadata": {
  "kernelspec": {
   "display_name": "Python 3",
   "language": "python",
   "name": "python3"
  },
  "language_info": {
   "codemirror_mode": {
    "name": "ipython",
    "version": 3
   },
   "file_extension": ".py",
   "mimetype": "text/x-python",
   "name": "python",
   "nbconvert_exporter": "python",
   "pygments_lexer": "ipython3",
   "version": "3.6.7"
  }
 },
 "nbformat": 4,
 "nbformat_minor": 2
}
